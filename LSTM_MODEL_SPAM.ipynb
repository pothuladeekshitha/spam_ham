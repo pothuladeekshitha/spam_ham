{
 "cells": [
  {
   "cell_type": "code",
   "execution_count": 1,
   "metadata": {
    "colab": {
     "base_uri": "https://localhost:8080/"
    },
    "id": "u4_VBcOnBfis",
    "outputId": "4f600186-3fba-4809-f499-f003a638c032"
   },
   "outputs": [],
   "source": [
    "import pandas as pd\n",
    "import numpy as np\n",
    "import re\n",
    "import collections\n",
    "import contractions\n",
    "import seaborn as sns\n",
    "import matplotlib.pyplot as plt\n",
    "#plt.style.use('dark_background')\n",
    "import nltk\n",
    "from nltk.stem import WordNetLemmatizer\n",
    "from nltk.corpus import stopwords\n",
    "import warnings\n",
    "warnings.simplefilter(action='ignore', category=Warning)\n",
    "import keras\n",
    "from keras.layers import Dense, Embedding, LSTM, Dropout\n",
    "from keras.models import Sequential\n",
    "from keras.preprocessing.text import Tokenizer\n",
    "#from keras.preprocessing.sequence import pad_sequences\n",
    "from keras_preprocessing.sequence import pad_sequences\n",
    "import pickle\n",
    "import nltk\n",
    "import os\n",
    "#nltk.download('stopwords')\n",
    "#nltk.download('wordnet')\n",
    "#nltk.download('omw-1.4')\n",
    "#from google.colab import files"
   ]
  },
  {
   "cell_type": "code",
   "execution_count": 2,
   "metadata": {},
   "outputs": [],
   "source": [
    "import warnings\n",
    "warnings.filterwarnings(\"ignore\")\n",
    "#import os\n",
    "#os.environ[\"KMP_SETTINGS\"] = \"false\"\n",
    "\n",
    "from sklearn import preprocessing\n",
    "import time\n",
    "\n",
    "import plotly.express as px\n",
    "import plotly.graph_objects as go\n",
    "from plotly.subplots import make_subplots"
   ]
  },
  {
   "cell_type": "code",
   "execution_count": 3,
   "metadata": {},
   "outputs": [],
   "source": [
    "import mlflow\n",
    "import mlflow.sklearn\n",
    "from mlflow.tracking import MlflowClient"
   ]
  },
  {
   "cell_type": "code",
   "execution_count": 4,
   "metadata": {},
   "outputs": [
    {
     "data": {
      "text/plain": [
       "<Experiment: artifact_location='./artifacts/5', experiment_id='5', lifecycle_stage='active', name='spam_ham', tags={}>"
      ]
     },
     "execution_count": 4,
     "metadata": {},
     "output_type": "execute_result"
    }
   ],
   "source": [
    "mlflow.set_tracking_uri(\"http://localhost:5000\")\n",
    "mlflow.set_experiment(\"spam_ham\")"
   ]
  },
  {
   "cell_type": "code",
   "execution_count": 5,
   "metadata": {},
   "outputs": [],
   "source": [
    " def get_directory_path(dir_name, create_dir=True):\n",
    "\n",
    "        cwd = os.getcwd()\n",
    "        dir = os.path.join(cwd, dir_name)\n",
    "        if create_dir:\n",
    "            if not os.path.exists(dir):\n",
    "                os.mkdir(dir, mode=0o755)\n",
    "\n",
    "        return dir"
   ]
  },
  {
   "cell_type": "code",
   "execution_count": 6,
   "metadata": {},
   "outputs": [
    {
     "data": {
      "text/plain": [
       "b'C:\\\\Users\\\\deekshitha\\\\Downloads\\\\SPAM CLASSIFIER'"
      ]
     },
     "execution_count": 6,
     "metadata": {},
     "output_type": "execute_result"
    }
   ],
   "source": [
    "os.getcwdb()"
   ]
  },
  {
   "cell_type": "code",
   "execution_count": 7,
   "metadata": {},
   "outputs": [],
   "source": [
    "image_dir = get_directory_path(\"lstm_images\")"
   ]
  },
  {
   "cell_type": "code",
   "execution_count": 8,
   "metadata": {
    "colab": {
     "base_uri": "https://localhost:8080/"
    },
    "id": "trKZstK5D1HO",
    "outputId": "6daafd62-9431-4c5c-8dc7-91bd66ce54e1"
   },
   "outputs": [],
   "source": [
    "#pip install contractions"
   ]
  },
  {
   "cell_type": "code",
   "execution_count": 9,
   "metadata": {
    "colab": {
     "base_uri": "https://localhost:8080/",
     "height": 206
    },
    "id": "FuL1joYrEM2b",
    "outputId": "2f1a1a0a-a44c-4d83-bb95-f1c2c455de13"
   },
   "outputs": [
    {
     "data": {
      "text/html": [
       "<div>\n",
       "<style scoped>\n",
       "    .dataframe tbody tr th:only-of-type {\n",
       "        vertical-align: middle;\n",
       "    }\n",
       "\n",
       "    .dataframe tbody tr th {\n",
       "        vertical-align: top;\n",
       "    }\n",
       "\n",
       "    .dataframe thead th {\n",
       "        text-align: right;\n",
       "    }\n",
       "</style>\n",
       "<table border=\"1\" class=\"dataframe\">\n",
       "  <thead>\n",
       "    <tr style=\"text-align: right;\">\n",
       "      <th></th>\n",
       "      <th>v1</th>\n",
       "      <th>v2</th>\n",
       "      <th>Unnamed: 2</th>\n",
       "      <th>Unnamed: 3</th>\n",
       "      <th>Unnamed: 4</th>\n",
       "    </tr>\n",
       "  </thead>\n",
       "  <tbody>\n",
       "    <tr>\n",
       "      <th>0</th>\n",
       "      <td>ham</td>\n",
       "      <td>Go until jurong point, crazy.. Available only ...</td>\n",
       "      <td>NaN</td>\n",
       "      <td>NaN</td>\n",
       "      <td>NaN</td>\n",
       "    </tr>\n",
       "    <tr>\n",
       "      <th>1</th>\n",
       "      <td>ham</td>\n",
       "      <td>Ok lar... Joking wif u oni...</td>\n",
       "      <td>NaN</td>\n",
       "      <td>NaN</td>\n",
       "      <td>NaN</td>\n",
       "    </tr>\n",
       "    <tr>\n",
       "      <th>2</th>\n",
       "      <td>spam</td>\n",
       "      <td>Free entry in 2 a wkly comp to win FA Cup fina...</td>\n",
       "      <td>NaN</td>\n",
       "      <td>NaN</td>\n",
       "      <td>NaN</td>\n",
       "    </tr>\n",
       "    <tr>\n",
       "      <th>3</th>\n",
       "      <td>ham</td>\n",
       "      <td>U dun say so early hor... U c already then say...</td>\n",
       "      <td>NaN</td>\n",
       "      <td>NaN</td>\n",
       "      <td>NaN</td>\n",
       "    </tr>\n",
       "    <tr>\n",
       "      <th>4</th>\n",
       "      <td>ham</td>\n",
       "      <td>Nah I don't think he goes to usf, he lives aro...</td>\n",
       "      <td>NaN</td>\n",
       "      <td>NaN</td>\n",
       "      <td>NaN</td>\n",
       "    </tr>\n",
       "  </tbody>\n",
       "</table>\n",
       "</div>"
      ],
      "text/plain": [
       "     v1                                                 v2 Unnamed: 2  \\\n",
       "0   ham  Go until jurong point, crazy.. Available only ...        NaN   \n",
       "1   ham                      Ok lar... Joking wif u oni...        NaN   \n",
       "2  spam  Free entry in 2 a wkly comp to win FA Cup fina...        NaN   \n",
       "3   ham  U dun say so early hor... U c already then say...        NaN   \n",
       "4   ham  Nah I don't think he goes to usf, he lives aro...        NaN   \n",
       "\n",
       "  Unnamed: 3 Unnamed: 4  \n",
       "0        NaN        NaN  \n",
       "1        NaN        NaN  \n",
       "2        NaN        NaN  \n",
       "3        NaN        NaN  \n",
       "4        NaN        NaN  "
      ]
     },
     "execution_count": 9,
     "metadata": {},
     "output_type": "execute_result"
    }
   ],
   "source": [
    "df = pd.read_csv(\"spam.csv\", encoding='latin-1')\n",
    "df.head()"
   ]
  },
  {
   "cell_type": "code",
   "execution_count": 10,
   "metadata": {
    "id": "5iO6aRqzFD0n"
   },
   "outputs": [],
   "source": [
    "df.drop([\"Unnamed: 2\", \"Unnamed: 3\", \"Unnamed: 4\"], axis=1, inplace=True)"
   ]
  },
  {
   "cell_type": "code",
   "execution_count": 11,
   "metadata": {
    "id": "zjk28rd9G3Y2"
   },
   "outputs": [],
   "source": [
    "df.columns = [\"type\",\"SMS\"]"
   ]
  },
  {
   "cell_type": "code",
   "execution_count": 12,
   "metadata": {},
   "outputs": [],
   "source": [
    "graph__data_distribution_png = os.path.join(image_dir,'Data_Distribution.png')"
   ]
  },
  {
   "cell_type": "code",
   "execution_count": 13,
   "metadata": {
    "colab": {
     "base_uri": "https://localhost:8080/",
     "height": 280
    },
    "id": "lUyXzYzuH4IS",
    "outputId": "0b647932-afe5-41d3-9418-81561ac41c7d"
   },
   "outputs": [
    {
     "data": {
      "image/png": "[encoded data removed]",
      "text/plain": [
       "<Figure size 432x288 with 1 Axes>"
      ]
     },
     "metadata": {
      "needs_background": "light"
     },
     "output_type": "display_data"
    }
   ],
   "source": [
    "fig_data =sns.countplot(df[\"type\"])\n",
    "\n",
    "fig_data.figure.savefig(graph__data_distribution_png)\n",
    "#graph_data_distribution_png = os.path.join(image_dir,fig.savefig(\"Data_Distribution.png\"))\n",
    "\n",
    "#graph_data_distribution_png = os.path.join(image_dir,\"Data_Distribution.png\")\n",
    "#fig.savefig(\"Data_Distribution.png\")\n",
    "#files.download(\"datadistribution.png\")"
   ]
  },
  {
   "cell_type": "code",
   "execution_count": 14,
   "metadata": {},
   "outputs": [
    {
     "data": {
      "text/plain": [
       "'lem = WordNetLemmatizer()\\ndef preprocessing(df):\\n    text = contractions.fix(df)# converting shortened words to original (Eg:\"I\\'m\" to \"I am\")\\n    text = text.lower() # lower casing the sms\\n    text = re.sub(r\\'https?://S+|www.S+\\', \"\", text).strip() #removing url\\n    text = re.sub(\"[^a-z ]\", \"\", text) # removing symbols and numbes\\n    text = text.split() #splitting\\n    # lemmatization and stopword removal\\n    text = [lem.lemmatize(word) for word in text if not word in set(stopwords.words(\"english\"))]\\n    text = \" \".join(text)\\n    return text\\nX = df[\"text\"].apply(preprocessing)\\n'"
      ]
     },
     "execution_count": 14,
     "metadata": {},
     "output_type": "execute_result"
    }
   ],
   "source": [
    "'''lem = WordNetLemmatizer()\n",
    "def preprocessing(df):\n",
    "    text = contractions.fix(df)# converting shortened words to original (Eg:\"I'm\" to \"I am\")\n",
    "    text = text.lower() # lower casing the sms\n",
    "    text = re.sub(r'https?://S+|www.S+', \"\", text).strip() #removing url\n",
    "    text = re.sub(\"[^a-z ]\", \"\", text) # removing symbols and numbes\n",
    "    text = text.split() #splitting\n",
    "    # lemmatization and stopword removal\n",
    "    text = [lem.lemmatize(word) for word in text if not word in set(stopwords.words(\"english\"))]\n",
    "    text = \" \".join(text)\n",
    "    return text\n",
    "X = df[\"text\"].apply(preprocessing)\n",
    "'''"
   ]
  },
  {
   "cell_type": "code",
   "execution_count": 15,
   "metadata": {},
   "outputs": [
    {
     "data": {
      "text/plain": [
       "'\\nfrom sklearn.preprocessing import LabelEncoder\\nlb_enc = LabelEncoder()\\ny = lb_enc.fit_transform(df[\"type\"])\\n'"
      ]
     },
     "execution_count": 15,
     "metadata": {},
     "output_type": "execute_result"
    }
   ],
   "source": [
    "'''\n",
    "from sklearn.preprocessing import LabelEncoder\n",
    "lb_enc = LabelEncoder()\n",
    "y = lb_enc.fit_transform(df[\"type\"])\n",
    "'''"
   ]
  },
  {
   "cell_type": "code",
   "execution_count": 16,
   "metadata": {},
   "outputs": [
    {
     "name": "stdout",
     "output_type": "stream",
     "text": [
      "Found  8920  unique tokens.\n",
      "Shape of the tensor containing the SMSes: (5572, 100)\n",
      "Shape of the tensor containing the classifcation labels: (5572,)\n"
     ]
    }
   ],
   "source": [
    "# preprocessing the data by tokenizing and padding the textual data and encoding the categorical classification labels\n",
    "maxlen = 100\n",
    "training_samples = 3000\n",
    "validation_samples = 2000\n",
    "testing_samples = 572\n",
    "max_words = 10000\n",
    "\n",
    "tokenizer = Tokenizer(num_words=max_words)\n",
    "tokenizer.fit_on_texts(df['SMS'])\n",
    "sequences = tokenizer.texts_to_sequences(df['SMS'])\n",
    "word_index = tokenizer.word_index\n",
    "print('Found ', len(word_index), ' unique tokens.')\n",
    "\n",
    "label_encoder = preprocessing.LabelEncoder()\n",
    "classification = label_encoder.fit_transform(df['type'])\n",
    "\n",
    "data = pad_sequences(sequences, maxlen=maxlen)\n",
    "labels = np.asarray(classification)\n",
    "print('Shape of the tensor containing the SMSes:', data.shape)\n",
    "print('Shape of the tensor containing the classifcation labels:', labels.shape)\n",
    "# splitting the data into train, validation and test sets\n",
    "indices = np.arange(data.shape[0])\n",
    "np.random.shuffle(indices)\n",
    "data = data[indices]\n",
    "labels = labels[indices]\n",
    "\n",
    "x_train = data[:training_samples]\n",
    "y_train = labels[:training_samples]\n",
    "x_val = data[training_samples: training_samples + validation_samples]\n",
    "y_val = labels[training_samples: training_samples + validation_samples]\n",
    "x_test = data[validation_samples: validation_samples + testing_samples]\n",
    "y_test = labels[validation_samples: validation_samples + testing_samples]"
   ]
  },
  {
   "cell_type": "code",
   "execution_count": null,
   "metadata": {},
   "outputs": [],
   "source": []
  },
  {
   "cell_type": "code",
   "execution_count": 17,
   "metadata": {},
   "outputs": [],
   "source": [
    "TOT_SIZE = len(word_index)+1\n",
    "def create_model():\n",
    "    lstm_model = Sequential()\n",
    "    lstm_model.add(Embedding(TOT_SIZE, 32, input_length=maxlen))\n",
    "    lstm_model.add(LSTM(100))\n",
    "    lstm_model.add(Dropout(0.4))\n",
    "    lstm_model.add(Dense(20, activation=\"relu\"))\n",
    "    lstm_model.add(Dropout(0.3))\n",
    "    lstm_model.add(Dense(1, activation = \"sigmoid\"))\n",
    "    return lstm_model\n",
    "lstm_model = create_model()\n"
   ]
  },
  {
   "cell_type": "code",
   "execution_count": 18,
   "metadata": {},
   "outputs": [
    {
     "name": "stdout",
     "output_type": "stream",
     "text": [
      "Model: \"sequential\"\n",
      "_________________________________________________________________\n",
      " Layer (type)                Output Shape              Param #   \n",
      "=================================================================\n",
      " embedding (Embedding)       (None, 100, 32)           285472    \n",
      "                                                                 \n",
      " lstm (LSTM)                 (None, 100)               53200     \n",
      "                                                                 \n",
      " dropout (Dropout)           (None, 100)               0         \n",
      "                                                                 \n",
      " dense (Dense)               (None, 20)                2020      \n",
      "                                                                 \n",
      " dropout_1 (Dropout)         (None, 20)                0         \n",
      "                                                                 \n",
      " dense_1 (Dense)             (None, 1)                 21        \n",
      "                                                                 \n",
      "=================================================================\n",
      "Total params: 340,713\n",
      "Trainable params: 340,713\n",
      "Non-trainable params: 0\n",
      "_________________________________________________________________\n"
     ]
    }
   ],
   "source": [
    "lstm_model.summary()"
   ]
  },
  {
   "cell_type": "code",
   "execution_count": 19,
   "metadata": {},
   "outputs": [],
   "source": [
    "batch_size=16"
   ]
  },
  {
   "cell_type": "code",
   "execution_count": 20,
   "metadata": {},
   "outputs": [
    {
     "name": "stdout",
     "output_type": "stream",
     "text": [
      "Epoch 1/10\n",
      "188/188 [==============================] - 12s 50ms/step - loss: 0.2100 - accuracy: 0.9337 - val_loss: 0.0626 - val_accuracy: 0.9825\n",
      "Epoch 2/10\n",
      "188/188 [==============================] - 9s 46ms/step - loss: 0.0395 - accuracy: 0.9903 - val_loss: 0.0553 - val_accuracy: 0.9845\n",
      "Epoch 3/10\n",
      "188/188 [==============================] - 9s 47ms/step - loss: 0.0129 - accuracy: 0.9967 - val_loss: 0.0817 - val_accuracy: 0.9835\n",
      "Epoch 4/10\n",
      "188/188 [==============================] - 8s 45ms/step - loss: 0.0051 - accuracy: 0.9993 - val_loss: 0.0831 - val_accuracy: 0.9845\n",
      "Epoch 5/10\n",
      "188/188 [==============================] - 9s 45ms/step - loss: 0.0032 - accuracy: 0.9997 - val_loss: 0.0653 - val_accuracy: 0.9850\n",
      "Epoch 6/10\n",
      "188/188 [==============================] - 9s 48ms/step - loss: 0.0027 - accuracy: 0.9990 - val_loss: 0.0872 - val_accuracy: 0.9840\n",
      "Epoch 7/10\n",
      "188/188 [==============================] - 10s 53ms/step - loss: 0.0015 - accuracy: 0.9997 - val_loss: 0.0850 - val_accuracy: 0.9850\n",
      "Epoch 8/10\n",
      "188/188 [==============================] - 8s 45ms/step - loss: 3.6882e-04 - accuracy: 1.0000 - val_loss: 0.1048 - val_accuracy: 0.9855\n",
      "Epoch 9/10\n",
      "188/188 [==============================] - 8s 44ms/step - loss: 0.0049 - accuracy: 0.9997 - val_loss: 0.1195 - val_accuracy: 0.9840\n",
      "Epoch 10/10\n",
      "188/188 [==============================] - 9s 50ms/step - loss: 3.0298e-04 - accuracy: 1.0000 - val_loss: 0.1135 - val_accuracy: 0.9845\n",
      "1659497592.215536 1659497683.9199884 91.70445227622986\n"
     ]
    }
   ],
   "source": [
    "lstm_model.compile(loss = \"binary_crossentropy\", optimizer = \"adam\", metrics = [\"accuracy\"])\n",
    "\n",
    "tik = time.time()\n",
    "history = lstm_model.fit(x_train, y_train, epochs=10, batch_size=16, validation_data=(x_val, y_val))\n",
    "tok = time.time()\n",
    "print(tik, tok, tok-tik)"
   ]
  },
  {
   "cell_type": "code",
   "execution_count": 21,
   "metadata": {},
   "outputs": [
    {
     "name": "stdout",
     "output_type": "stream",
     "text": [
      "18/18 [==============================] - 1s 24ms/step - loss: 8.0088e-06 - accuracy: 1.0000\n"
     ]
    }
   ],
   "source": [
    "# evaluating the performance of the model\n",
    "values_2 = lstm_model.evaluate(x_test,y_test)\n",
    "values_2\n",
    "time_2 = tok-tik"
   ]
  },
  {
   "cell_type": "code",
   "execution_count": 22,
   "metadata": {},
   "outputs": [
    {
     "name": "stdout",
     "output_type": "stream",
     "text": [
      "dict_keys(['loss', 'accuracy', 'val_loss', 'val_accuracy'])\n"
     ]
    }
   ],
   "source": [
    "print(history.history.keys())"
   ]
  },
  {
   "cell_type": "code",
   "execution_count": 23,
   "metadata": {},
   "outputs": [],
   "source": [
    "graph_image_loss_png = os.path.join(image_dir,'Training and validation loss.png')\n",
    "graph_image_acc_png = os.path.join(image_dir, \" Training and validation accuracy.png\")"
   ]
  },
  {
   "cell_type": "code",
   "execution_count": 24,
   "metadata": {},
   "outputs": [],
   "source": [
    "accuracy = history.history['accuracy']\n",
    "val_accuracy = history.history['val_accuracy']\n",
    "loss = history.history['loss']\n",
    "val_loss = history.history['val_loss']"
   ]
  },
  {
   "cell_type": "code",
   "execution_count": 26,
   "metadata": {},
   "outputs": [
    {
     "data": {
      "image/png": "[encoded data removed]",
      "text/plain": [
       "<Figure size 720x432 with 1 Axes>"
      ]
     },
     "metadata": {
      "needs_background": "light"
     },
     "output_type": "display_data"
    }
   ],
   "source": [
    "epochs_l = range(1, len(accuracy) + 1)\n",
    "fig = plt.figure(figsize=(10, 6))\n",
    "# r is for \"solid red line\"\n",
    "plt.plot(epochs_l, loss, 'r', label='Training loss')\n",
    "# b is for \"solid blue line\"\n",
    "plt.plot(epochs_l, val_loss, 'b', label='Validation loss')\n",
    "plt.title('Training and validation loss')\n",
    "# plt.xlabel('Epochs')\n",
    "plt.ylabel('Loss')\n",
    "plt.legend()\n",
    "plt.savefig(graph_image_loss_png)\n",
    "#plt.savefig('Training and validation loss.png')"
   ]
  },
  {
   "cell_type": "code",
   "execution_count": 28,
   "metadata": {},
   "outputs": [
    {
     "data": {
      "image/png": "[encoded data removed]",
      "text/plain": [
       "<Figure size 720x432 with 1 Axes>"
      ]
     },
     "metadata": {
      "needs_background": "light"
     },
     "output_type": "display_data"
    }
   ],
   "source": [
    "epochs_l = range(1, len(accuracy) + 1)\n",
    "fig = plt.figure(figsize=(10, 6))\n",
    "plt.plot(epochs_l, accuracy, 'r', label='Training accuracy')\n",
    "plt.plot(epochs_l, val_accuracy, 'b', label='Validation accuracy')\n",
    "plt.title('Training and validation accuracy')\n",
    "plt.xlabel('Epochs')\n",
    "plt.ylabel('Accuracy')\n",
    "plt.legend(loc='lower right')\n",
    "plt.savefig(graph_image_acc_png)\n",
    "#fig.savefig(\" Training and validation accuracy.png\")"
   ]
  },
  {
   "cell_type": "code",
   "execution_count": 29,
   "metadata": {},
   "outputs": [],
   "source": [
    "lstm_model.save(\"lstm_model.h5\")"
   ]
  },
  {
   "cell_type": "code",
   "execution_count": 30,
   "metadata": {},
   "outputs": [],
   "source": [
    "optimizer_name='adam'"
   ]
  },
  {
   "cell_type": "code",
   "execution_count": 31,
   "metadata": {},
   "outputs": [],
   "source": [
    "batch_size =16"
   ]
  },
  {
   "cell_type": "code",
   "execution_count": 39,
   "metadata": {},
   "outputs": [],
   "source": [
    "epochs=10"
   ]
  },
  {
   "cell_type": "code",
   "execution_count": 43,
   "metadata": {},
   "outputs": [],
   "source": [
    "num_layers = 6"
   ]
  },
  {
   "cell_type": "code",
   "execution_count": 42,
   "metadata": {},
   "outputs": [],
   "source": [
    "validation_split = 0.4"
   ]
  },
  {
   "cell_type": "code",
   "execution_count": 41,
   "metadata": {},
   "outputs": [],
   "source": [
    "mlflow.keras.autolog()"
   ]
  },
  {
   "cell_type": "code",
   "execution_count": 33,
   "metadata": {},
   "outputs": [],
   "source": [
    "from keras.models import load_model\n",
    "loaded_model_1 =load_model(\"lstm_model.h5\")"
   ]
  },
  {
   "cell_type": "code",
   "execution_count": 44,
   "metadata": {},
   "outputs": [
    {
     "name": "stdout",
     "output_type": "stream",
     "text": [
      "MLflow Run ID: 3568457b935045c4b866f0c6d9093acd\n"
     ]
    },
    {
     "name": "stderr",
     "output_type": "stream",
     "text": [
      "WARNING:absl:Found untraced functions such as lstm_cell_1_layer_call_fn, lstm_cell_1_layer_call_and_return_conditional_losses while saving (showing 2 of 2). These functions will not be directly callable after loading.\n"
     ]
    },
    {
     "name": "stdout",
     "output_type": "stream",
     "text": [
      "INFO:tensorflow:Assets written to: C:\\Users\\DEEKSH~1\\AppData\\Local\\Temp\\tmpox6m5xfu\\model\\data\\model\\assets\n"
     ]
    },
    {
     "name": "stderr",
     "output_type": "stream",
     "text": [
      "INFO:tensorflow:Assets written to: C:\\Users\\DEEKSH~1\\AppData\\Local\\Temp\\tmpox6m5xfu\\model\\data\\model\\assets\n"
     ]
    },
    {
     "name": "stdout",
     "output_type": "stream",
     "text": [
      "loss function use 0.000302976171951741\n"
     ]
    }
   ],
   "source": [
    "with mlflow.start_run(run_name =\"lstm_model\"):\n",
    "    run_uuid = mlflow.active_run().info.run_uuid\n",
    "    print(\"MLflow Run ID: %s\" % run_uuid)\n",
    "    \n",
    "    #history_dict = history.history\n",
    "    \n",
    "    # log parameters\n",
    "    #hidden_layers\n",
    "    #\n",
    "    #mlflow.log_param(\"alpha\", 0.001)\n",
    "    mlflow.log_param(\"epochs\", epochs)\n",
    "    mlflow.log_param(\"optimizer\", optimizer_name)\n",
    "    mlflow.log_param(\"batch_size\", batch_size)\n",
    "    mlflow.log_param(\"num_layers\",num_layers)\n",
    "    mlflow.log_param(\"validation_split\",validation_split)\n",
    "        \n",
    "    \n",
    "    # calculate metrics\n",
    "    mlflow.log_metric(\"loss\", loss[-1])\n",
    "    mlflow.log_metric(\"accuracy\", accuracy[-1])\n",
    "    mlflow.log_metric(\"val_loss\",val_loss[-1] )\n",
    "    mlflow.log_metric(\"val_accuracy\", val_accuracy[-1])\n",
    "    \n",
    "    # log artifacts\n",
    "    mlflow.log_artifacts(image_dir, \"lstm_images\")\n",
    "\n",
    "    #mlflow.log_metric(key=\"accuracy\", value=scores[1], step=dataset_count)\n",
    "    mlflow.keras.log_model(loaded_model_1,\"lstm_model\")\n",
    "    \n",
    "    print(\"loss function use\", loss[-1])"
   ]
  },
  {
   "cell_type": "code",
   "execution_count": null,
   "metadata": {},
   "outputs": [],
   "source": []
  }
 ],
 "metadata": {
  "colab": {
   "collapsed_sections": [],
   "name": "Untitled0.ipynb",
   "provenance": []
  },
  "kernelspec": {
   "display_name": "Python 3 (ipykernel)",
   "language": "python",
   "name": "python3"
  },
  "language_info": {
   "codemirror_mode": {
    "name": "ipython",
    "version": 3
   },
   "file_extension": ".py",
   "mimetype": "text/x-python",
   "name": "python",
   "nbconvert_exporter": "python",
   "pygments_lexer": "ipython3",
   "version": "3.9.7"
  }
 },
 "nbformat": 4,
 "nbformat_minor": 1
}
