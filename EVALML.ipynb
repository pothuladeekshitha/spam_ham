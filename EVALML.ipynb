{
 "cells": [
  {
   "cell_type": "code",
   "execution_count": 1,
   "id": "3c3653e1",
   "metadata": {},
   "outputs": [],
   "source": [
    "import numpy as np\n",
    "import pandas as pd"
   ]
  },
  {
   "cell_type": "code",
   "execution_count": 22,
   "id": "c3e4226b",
   "metadata": {},
   "outputs": [
    {
     "name": "stderr",
     "output_type": "stream",
     "text": [
      "pandas.Int64Index is deprecated and will be removed from pandas in a future version. Use pandas.Index with the appropriate dtype instead.\n",
      "pandas.Float64Index is deprecated and will be removed from pandas in a future version. Use pandas.Index with the appropriate dtype instead.\n"
     ]
    }
   ],
   "source": [
    "import evalml\n",
    "from evalml import AutoMLSearch"
   ]
  },
  {
   "cell_type": "code",
   "execution_count": null,
   "id": "124b6ab3",
   "metadata": {},
   "outputs": [],
   "source": [
    "import mlflow\n",
    "import mlflow.sklearn\n",
    "from mlflow.tracking import MlflowClient"
   ]
  },
  {
   "cell_type": "code",
   "execution_count": null,
   "id": "bed1aba6",
   "metadata": {},
   "outputs": [],
   "source": [
    "mlflow.set_tracking_uri(\"http://localhost:5000\")\n",
    "mlflow.set_experiment(\"evalml_spam\")"
   ]
  },
  {
   "cell_type": "code",
   "execution_count": 3,
   "id": "f3c4c3a8",
   "metadata": {},
   "outputs": [],
   "source": [
    "data = pd.read_csv('spam.csv',encoding=\"cp437\")"
   ]
  },
  {
   "cell_type": "code",
   "execution_count": 4,
   "id": "f1b5626b",
   "metadata": {},
   "outputs": [
    {
     "data": {
      "text/html": [
       "<div>\n",
       "<style scoped>\n",
       "    .dataframe tbody tr th:only-of-type {\n",
       "        vertical-align: middle;\n",
       "    }\n",
       "\n",
       "    .dataframe tbody tr th {\n",
       "        vertical-align: top;\n",
       "    }\n",
       "\n",
       "    .dataframe thead th {\n",
       "        text-align: right;\n",
       "    }\n",
       "</style>\n",
       "<table border=\"1\" class=\"dataframe\">\n",
       "  <thead>\n",
       "    <tr style=\"text-align: right;\">\n",
       "      <th></th>\n",
       "      <th>v1</th>\n",
       "      <th>v2</th>\n",
       "      <th>Unnamed: 2</th>\n",
       "      <th>Unnamed: 3</th>\n",
       "      <th>Unnamed: 4</th>\n",
       "    </tr>\n",
       "  </thead>\n",
       "  <tbody>\n",
       "    <tr>\n",
       "      <th>0</th>\n",
       "      <td>ham</td>\n",
       "      <td>Go until jurong point, crazy.. Available only ...</td>\n",
       "      <td>NaN</td>\n",
       "      <td>NaN</td>\n",
       "      <td>NaN</td>\n",
       "    </tr>\n",
       "    <tr>\n",
       "      <th>1</th>\n",
       "      <td>ham</td>\n",
       "      <td>Ok lar... Joking wif u oni...</td>\n",
       "      <td>NaN</td>\n",
       "      <td>NaN</td>\n",
       "      <td>NaN</td>\n",
       "    </tr>\n",
       "    <tr>\n",
       "      <th>2</th>\n",
       "      <td>spam</td>\n",
       "      <td>Free entry in 2 a wkly comp to win FA Cup fina...</td>\n",
       "      <td>NaN</td>\n",
       "      <td>NaN</td>\n",
       "      <td>NaN</td>\n",
       "    </tr>\n",
       "    <tr>\n",
       "      <th>3</th>\n",
       "      <td>ham</td>\n",
       "      <td>U dun say so early hor... U c already then say...</td>\n",
       "      <td>NaN</td>\n",
       "      <td>NaN</td>\n",
       "      <td>NaN</td>\n",
       "    </tr>\n",
       "    <tr>\n",
       "      <th>4</th>\n",
       "      <td>ham</td>\n",
       "      <td>Nah I don't think he goes to usf, he lives aro...</td>\n",
       "      <td>NaN</td>\n",
       "      <td>NaN</td>\n",
       "      <td>NaN</td>\n",
       "    </tr>\n",
       "  </tbody>\n",
       "</table>\n",
       "</div>"
      ],
      "text/plain": [
       "     v1                                                 v2 Unnamed: 2  \\\n",
       "0   ham  Go until jurong point, crazy.. Available only ...        NaN   \n",
       "1   ham                      Ok lar... Joking wif u oni...        NaN   \n",
       "2  spam  Free entry in 2 a wkly comp to win FA Cup fina...        NaN   \n",
       "3   ham  U dun say so early hor... U c already then say...        NaN   \n",
       "4   ham  Nah I don't think he goes to usf, he lives aro...        NaN   \n",
       "\n",
       "  Unnamed: 3 Unnamed: 4  \n",
       "0        NaN        NaN  \n",
       "1        NaN        NaN  \n",
       "2        NaN        NaN  \n",
       "3        NaN        NaN  \n",
       "4        NaN        NaN  "
      ]
     },
     "execution_count": 4,
     "metadata": {},
     "output_type": "execute_result"
    }
   ],
   "source": [
    "data.head()"
   ]
  },
  {
   "cell_type": "code",
   "execution_count": 5,
   "id": "ac9f20ec",
   "metadata": {},
   "outputs": [],
   "source": [
    "data.drop(columns=['Unnamed: 2','Unnamed: 3','Unnamed: 4'],inplace=True)"
   ]
  },
  {
   "cell_type": "code",
   "execution_count": 6,
   "id": "155d07d1",
   "metadata": {},
   "outputs": [],
   "source": [
    "data.rename(columns={'v1':'Category','v2':'Message'},inplace=True)"
   ]
  },
  {
   "cell_type": "code",
   "execution_count": 7,
   "id": "1e65108e",
   "metadata": {},
   "outputs": [],
   "source": [
    "X = data.drop(['Category'], axis=1)\n",
    "y = data['Category']"
   ]
  },
  {
   "cell_type": "code",
   "execution_count": 23,
   "id": "9a35c108",
   "metadata": {},
   "outputs": [
    {
     "data": {
      "text/plain": [
       "ham     0.865937\n",
       "spam    0.134063\n",
       "Name: Category, dtype: float64"
      ]
     },
     "execution_count": 23,
     "metadata": {},
     "output_type": "execute_result"
    }
   ],
   "source": [
    "y.value_counts(normalize=True)"
   ]
  },
  {
   "cell_type": "code",
   "execution_count": 8,
   "id": "d5917ca4",
   "metadata": {},
   "outputs": [
    {
     "data": {
      "text/plain": [
       "<AxesSubplot:ylabel='Category'>"
      ]
     },
     "execution_count": 8,
     "metadata": {},
     "output_type": "execute_result"
    },
    {
     "data": {
      "image/png": "[encoded data removed]",
      "text/plain": [
       "<Figure size 720x720 with 1 Axes>"
      ]
     },
     "metadata": {},
     "output_type": "display_data"
    }
   ],
   "source": [
    "y.value_counts().plot.pie(figsize=(10,10))"
   ]
  },
  {
   "cell_type": "code",
   "execution_count": 17,
   "id": "fc9919af",
   "metadata": {},
   "outputs": [],
   "source": [
    "#!pip install woodwork"
   ]
  },
  {
   "cell_type": "code",
   "execution_count": 14,
   "id": "bd51ffd5",
   "metadata": {},
   "outputs": [],
   "source": [
    "import woodwork as ww"
   ]
  },
  {
   "cell_type": "code",
   "execution_count": 24,
   "id": "98118744",
   "metadata": {},
   "outputs": [],
   "source": [
    "X.ww.init(logical_types={\"Message\": \"NaturalLanguage\"})"
   ]
  },
  {
   "cell_type": "code",
   "execution_count": 25,
   "id": "26cfc86a",
   "metadata": {},
   "outputs": [],
   "source": [
    "X_train, X_holdout, y_train, y_holdout = evalml.preprocessing.split_data(\n",
    "    X, y, problem_type=\"binary\", test_size=0.2, random_seed=0\n",
    ")"
   ]
  },
  {
   "cell_type": "code",
   "execution_count": 26,
   "id": "ce22174d",
   "metadata": {},
   "outputs": [
    {
     "data": {
      "text/html": [
       "<table border=\"1\" class=\"dataframe\">\n",
       "  <thead>\n",
       "    <tr style=\"text-align: right;\">\n",
       "      <th></th>\n",
       "      <th>Physical Type</th>\n",
       "      <th>Logical Type</th>\n",
       "      <th>Semantic Tag(s)</th>\n",
       "    </tr>\n",
       "    <tr>\n",
       "      <th>Column</th>\n",
       "      <th></th>\n",
       "      <th></th>\n",
       "      <th></th>\n",
       "    </tr>\n",
       "  </thead>\n",
       "  <tbody>\n",
       "    <tr>\n",
       "      <th>Message</th>\n",
       "      <td>string</td>\n",
       "      <td>NaturalLanguage</td>\n",
       "      <td>[]</td>\n",
       "    </tr>\n",
       "  </tbody>\n",
       "</table>"
      ],
      "text/plain": [
       "        Physical Type     Logical Type Semantic Tag(s)\n",
       "Column                                                \n",
       "Message        string  NaturalLanguage              []"
      ]
     },
     "execution_count": 26,
     "metadata": {},
     "output_type": "execute_result"
    }
   ],
   "source": [
    "X_train.ww"
   ]
  },
  {
   "cell_type": "code",
   "execution_count": 53,
   "id": "904984cc",
   "metadata": {},
   "outputs": [
    {
     "data": {
      "text/plain": [
       "1257     ham\n",
       "5461     ham\n",
       "1612    spam\n",
       "2179     ham\n",
       "2638     ham\n",
       "        ... \n",
       "3297    spam\n",
       "1054     ham\n",
       "245      ham\n",
       "1235     ham\n",
       "3361     ham\n",
       "Name: Category, Length: 4457, dtype: category\n",
       "Categories (2, object): ['ham', 'spam']"
      ]
     },
     "execution_count": 53,
     "metadata": {},
     "output_type": "execute_result"
    }
   ],
   "source": [
    "y_train"
   ]
  },
  {
   "cell_type": "code",
   "execution_count": 28,
   "id": "28a5b757",
   "metadata": {},
   "outputs": [
    {
     "name": "stdout",
     "output_type": "stream",
     "text": [
      "\n",
      "*****************************\n",
      "* Beginning pipeline search *\n",
      "*****************************\n",
      "\n",
      "Optimizing for Log Loss Binary. \n",
      "Lower score is better.\n",
      "\n",
      "Using SequentialEngine to train and score pipelines.\n",
      "Searching up to 1 batches for a total of None pipelines. \n",
      "Allowed model families: \n",
      "\n"
     ]
    },
    {
     "data": {
      "application/vnd.jupyter.widget-view+json": {
       "model_id": "a400d4ec2717497c882d5bceb2ca9e74",
       "version_major": 2,
       "version_minor": 0
      },
      "text/plain": [
       "FigureWidget({\n",
       "    'data': [{'mode': 'lines+markers',\n",
       "              'name': 'Best Score',\n",
       "              'type'…"
      ]
     },
     "metadata": {},
     "output_type": "display_data"
    },
    {
     "name": "stdout",
     "output_type": "stream",
     "text": [
      "Evaluating Baseline Pipeline: Mode Baseline Binary Classification Pipeline\n",
      "Mode Baseline Binary Classification Pipeline:\n",
      "\tStarting cross validation\n",
      "\tFinished cross validation - mean Log Loss Binary: 4.634\n",
      "\n",
      "*****************************\n",
      "* Evaluating Batch Number 1 *\n",
      "*****************************\n",
      "\n",
      "Logistic Regression Classifier w/ Label Encoder + Natural Language Featurizer + Imputer + Oversampler + Standard Scaler:\n",
      "\tStarting cross validation\n",
      "\tFinished cross validation - mean Log Loss Binary: 0.198\n",
      "Random Forest Classifier w/ Label Encoder + Natural Language Featurizer + Imputer + Oversampler:\n",
      "\tStarting cross validation\n",
      "\tFinished cross validation - mean Log Loss Binary: 0.146\n",
      "\n",
      "Search finished after 04:59            \n",
      "Best pipeline: Random Forest Classifier w/ Label Encoder + Natural Language Featurizer + Imputer + Oversampler\n",
      "Best pipeline Log Loss Binary: 0.146011\n"
     ]
    }
   ],
   "source": [
    "automl = AutoMLSearch(\n",
    "    X_train=X_train,\n",
    "    y_train=y_train,\n",
    "    problem_type=\"binary\",\n",
    "    max_batches=1,\n",
    "    optimize_thresholds=True,\n",
    "    verbose=True,\n",
    ")\n",
    "\n",
    "automl.search()"
   ]
  },
  {
   "cell_type": "code",
   "execution_count": 29,
   "id": "3328610d",
   "metadata": {},
   "outputs": [
    {
     "data": {
      "text/html": [
       "<div>\n",
       "<style scoped>\n",
       "    .dataframe tbody tr th:only-of-type {\n",
       "        vertical-align: middle;\n",
       "    }\n",
       "\n",
       "    .dataframe tbody tr th {\n",
       "        vertical-align: top;\n",
       "    }\n",
       "\n",
       "    .dataframe thead th {\n",
       "        text-align: right;\n",
       "    }\n",
       "</style>\n",
       "<table border=\"1\" class=\"dataframe\">\n",
       "  <thead>\n",
       "    <tr style=\"text-align: right;\">\n",
       "      <th></th>\n",
       "      <th>id</th>\n",
       "      <th>pipeline_name</th>\n",
       "      <th>search_order</th>\n",
       "      <th>mean_cv_score</th>\n",
       "      <th>standard_deviation_cv_score</th>\n",
       "      <th>validation_score</th>\n",
       "      <th>percent_better_than_baseline</th>\n",
       "      <th>high_variance_cv</th>\n",
       "      <th>parameters</th>\n",
       "    </tr>\n",
       "  </thead>\n",
       "  <tbody>\n",
       "    <tr>\n",
       "      <th>0</th>\n",
       "      <td>2</td>\n",
       "      <td>Random Forest Classifier w/ Label Encoder + Na...</td>\n",
       "      <td>2</td>\n",
       "      <td>0.146011</td>\n",
       "      <td>0.006984</td>\n",
       "      <td>0.146011</td>\n",
       "      <td>96.849200</td>\n",
       "      <td>False</td>\n",
       "      <td>{'Label Encoder': {'positive_label': None}, 'I...</td>\n",
       "    </tr>\n",
       "    <tr>\n",
       "      <th>1</th>\n",
       "      <td>1</td>\n",
       "      <td>Logistic Regression Classifier w/ Label Encode...</td>\n",
       "      <td>1</td>\n",
       "      <td>0.197820</td>\n",
       "      <td>0.004809</td>\n",
       "      <td>0.197820</td>\n",
       "      <td>95.731211</td>\n",
       "      <td>False</td>\n",
       "      <td>{'Label Encoder': {'positive_label': None}, 'I...</td>\n",
       "    </tr>\n",
       "    <tr>\n",
       "      <th>2</th>\n",
       "      <td>0</td>\n",
       "      <td>Mode Baseline Binary Classification Pipeline</td>\n",
       "      <td>0</td>\n",
       "      <td>4.634100</td>\n",
       "      <td>0.012617</td>\n",
       "      <td>4.634100</td>\n",
       "      <td>0.000000</td>\n",
       "      <td>False</td>\n",
       "      <td>{'Label Encoder': {'positive_label': None}, 'B...</td>\n",
       "    </tr>\n",
       "  </tbody>\n",
       "</table>\n",
       "</div>"
      ],
      "text/plain": [
       "   id                                      pipeline_name  search_order  \\\n",
       "0   2  Random Forest Classifier w/ Label Encoder + Na...             2   \n",
       "1   1  Logistic Regression Classifier w/ Label Encode...             1   \n",
       "2   0       Mode Baseline Binary Classification Pipeline             0   \n",
       "\n",
       "   mean_cv_score  standard_deviation_cv_score  validation_score  \\\n",
       "0       0.146011                     0.006984          0.146011   \n",
       "1       0.197820                     0.004809          0.197820   \n",
       "2       4.634100                     0.012617          4.634100   \n",
       "\n",
       "   percent_better_than_baseline  high_variance_cv  \\\n",
       "0                     96.849200             False   \n",
       "1                     95.731211             False   \n",
       "2                      0.000000             False   \n",
       "\n",
       "                                          parameters  \n",
       "0  {'Label Encoder': {'positive_label': None}, 'I...  \n",
       "1  {'Label Encoder': {'positive_label': None}, 'I...  \n",
       "2  {'Label Encoder': {'positive_label': None}, 'B...  "
      ]
     },
     "execution_count": 29,
     "metadata": {},
     "output_type": "execute_result"
    }
   ],
   "source": [
    "automl.rankings"
   ]
  },
  {
   "cell_type": "code",
   "execution_count": 34,
   "id": "ea1e870c",
   "metadata": {},
   "outputs": [],
   "source": [
    "best_pipeline = automl.best_pipeline"
   ]
  },
  {
   "cell_type": "code",
   "execution_count": 35,
   "id": "f46d06b9",
   "metadata": {},
   "outputs": [
    {
     "name": "stdout",
     "output_type": "stream",
     "text": [
      "\n",
      "***************************************************************************************************\n",
      "* Random Forest Classifier w/ Label Encoder + Natural Language Featurizer + Imputer + Oversampler *\n",
      "***************************************************************************************************\n",
      "\n",
      "Problem Type: binary\n",
      "Model Family: Random Forest\n",
      "\n",
      "Pipeline Steps\n",
      "==============\n",
      "1. Label Encoder\n",
      "\t * positive_label : None\n",
      "2. Natural Language Featurizer\n",
      "3. Imputer\n",
      "\t * categorical_impute_strategy : most_frequent\n",
      "\t * numeric_impute_strategy : mean\n",
      "\t * boolean_impute_strategy : most_frequent\n",
      "\t * categorical_fill_value : None\n",
      "\t * numeric_fill_value : None\n",
      "\t * boolean_fill_value : None\n",
      "4. Oversampler\n",
      "\t * sampling_ratio : 0.25\n",
      "\t * k_neighbors_default : 5\n",
      "\t * n_jobs : -1\n",
      "\t * sampling_ratio_dict : None\n",
      "\t * k_neighbors : 5\n",
      "5. Random Forest Classifier\n",
      "\t * n_estimators : 100\n",
      "\t * max_depth : 6\n",
      "\t * n_jobs : -1\n",
      "\n",
      "Training\n",
      "========\n",
      "Training for binary problems.\n",
      "Total training time (including CV): 146.2 seconds\n",
      "\n",
      "Cross Validation\n",
      "----------------\n",
      "             Log Loss Binary  MCC Binary  Gini   AUC  Precision    F1  Balanced Accuracy Binary  Accuracy Binary # Training # Validation\n",
      "0                      0.153       0.757 0.929 0.965      0.777 0.790                     0.884            0.943      2,971        1,486\n",
      "1                      0.139       0.810 0.950 0.975      0.779 0.835                     0.930            0.952      2,971        1,486\n",
      "2                      0.147       0.772 0.934 0.967      0.810 0.802                     0.883            0.947      2,972        1,485\n",
      "mean                   0.146       0.780 0.938 0.969      0.789 0.809                     0.899            0.947          -            -\n",
      "std                    0.007       0.027 0.011 0.005      0.019 0.023                     0.027            0.005          -            -\n",
      "coef of var            0.048       0.035 0.012 0.006      0.024 0.029                     0.030            0.005          -            -\n"
     ]
    }
   ],
   "source": [
    "automl.describe_pipeline(automl.rankings.iloc[0][\"id\"])"
   ]
  },
  {
   "cell_type": "code",
   "execution_count": 48,
   "id": "3ad63a42",
   "metadata": {},
   "outputs": [
    {
     "data": {
      "image/svg+xml": [
       "<?xml version=\"1.0\" encoding=\"UTF-8\" standalone=\"no\"?>\n",
       "<!DOCTYPE svg PUBLIC \"-//W3C//DTD SVG 1.1//EN\"\n",
       " \"http://www.w3.org/Graphics/SVG/1.1/DTD/svg11.dtd\">\n",
       "<!-- Generated by graphviz version 2.50.0 (0)\n",
       " -->\n",
       "<!-- Pages: 1 -->\n",
       "<svg width=\"1112pt\" height=\"168pt\"\n",
       " viewBox=\"0.00 0.00 1112.00 167.50\" xmlns=\"http://www.w3.org/2000/svg\" xmlns:xlink=\"http://www.w3.org/1999/xlink\">\n",
       "<g id=\"graph0\" class=\"graph\" transform=\"scale(1 1) rotate(0) translate(4 163.5)\">\n",
       "<polygon fill=\"white\" stroke=\"transparent\" points=\"-4,4 -4,-163.5 1108,-163.5 1108,4 -4,4\"/>\n",
       "<!-- Label Encoder -->\n",
       "<g id=\"node1\" class=\"node\">\n",
       "<title>Label Encoder</title>\n",
       "<polygon fill=\"none\" stroke=\"black\" points=\"72,-24.5 72,-70.5 205,-70.5 205,-24.5 72,-24.5\"/>\n",
       "<text text-anchor=\"middle\" x=\"138.5\" y=\"-55.3\" font-family=\"Times New Roman,serif\" font-size=\"14.00\">Label Encoder</text>\n",
       "<polyline fill=\"none\" stroke=\"black\" points=\"72,-47.5 205,-47.5 \"/>\n",
       "<text text-anchor=\"start\" x=\"80\" y=\"-32.3\" font-family=\"Times New Roman,serif\" font-size=\"14.00\">positive_label : None</text>\n",
       "</g>\n",
       "<!-- Natural Language Featurizer -->\n",
       "<g id=\"node2\" class=\"node\">\n",
       "<title>Natural Language Featurizer</title>\n",
       "<polygon fill=\"none\" stroke=\"black\" points=\"241,-76 241,-123 414,-123 414,-76 241,-76\"/>\n",
       "<text text-anchor=\"middle\" x=\"327.5\" y=\"-107.8\" font-family=\"Times New Roman,serif\" font-size=\"14.00\">Natural Language Featurizer</text>\n",
       "<polyline fill=\"none\" stroke=\"black\" points=\"241,-100 414,-100 \"/>\n",
       "</g>\n",
       "<!-- Label Encoder&#45;&gt;Natural Language Featurizer -->\n",
       "<g id=\"edge6\" class=\"edge\">\n",
       "<title>Label Encoder&#45;&gt;Natural Language Featurizer</title>\n",
       "<path fill=\"none\" stroke=\"black\" stroke-dasharray=\"1,5\" d=\"M205.17,-65.76C213.9,-68.19 222.99,-70.72 232.09,-73.25\"/>\n",
       "<polygon fill=\"black\" stroke=\"black\" points=\"231.38,-76.68 241.95,-75.99 233.26,-69.94 231.38,-76.68\"/>\n",
       "</g>\n",
       "<!-- Imputer -->\n",
       "<g id=\"node3\" class=\"node\">\n",
       "<title>Imputer</title>\n",
       "<polygon fill=\"none\" stroke=\"black\" points=\"450,-38 450,-159 710,-159 710,-38 450,-38\"/>\n",
       "<text text-anchor=\"middle\" x=\"580\" y=\"-143.8\" font-family=\"Times New Roman,serif\" font-size=\"14.00\">Imputer</text>\n",
       "<polyline fill=\"none\" stroke=\"black\" points=\"450,-136 710,-136 \"/>\n",
       "<text text-anchor=\"start\" x=\"458\" y=\"-120.8\" font-family=\"Times New Roman,serif\" font-size=\"14.00\">categorical_impute_strategy : most_frequent</text>\n",
       "<text text-anchor=\"start\" x=\"458\" y=\"-105.8\" font-family=\"Times New Roman,serif\" font-size=\"14.00\">numeric_impute_strategy : mean</text>\n",
       "<text text-anchor=\"start\" x=\"458\" y=\"-90.8\" font-family=\"Times New Roman,serif\" font-size=\"14.00\">boolean_impute_strategy : most_frequent</text>\n",
       "<text text-anchor=\"start\" x=\"458\" y=\"-75.8\" font-family=\"Times New Roman,serif\" font-size=\"14.00\">categorical_fill_value : None</text>\n",
       "<text text-anchor=\"start\" x=\"458\" y=\"-60.8\" font-family=\"Times New Roman,serif\" font-size=\"14.00\">numeric_fill_value : None</text>\n",
       "<text text-anchor=\"start\" x=\"458\" y=\"-45.8\" font-family=\"Times New Roman,serif\" font-size=\"14.00\">boolean_fill_value : None</text>\n",
       "</g>\n",
       "<!-- Label Encoder&#45;&gt;Imputer -->\n",
       "<g id=\"edge7\" class=\"edge\">\n",
       "<title>Label Encoder&#45;&gt;Imputer</title>\n",
       "<path fill=\"none\" stroke=\"black\" stroke-dasharray=\"1,5\" d=\"M205.17,-49.78C260.92,-52.26 342.95,-57.19 414,-66.5 422.51,-67.62 431.25,-68.9 440.05,-70.29\"/>\n",
       "<polygon fill=\"black\" stroke=\"black\" points=\"439.56,-73.76 449.99,-71.91 440.69,-66.85 439.56,-73.76\"/>\n",
       "</g>\n",
       "<!-- Oversampler -->\n",
       "<g id=\"node4\" class=\"node\">\n",
       "<title>Oversampler</title>\n",
       "<polygon fill=\"none\" stroke=\"black\" points=\"746,-0.5 746,-106.5 912,-106.5 912,-0.5 746,-0.5\"/>\n",
       "<text text-anchor=\"middle\" x=\"829\" y=\"-91.3\" font-family=\"Times New Roman,serif\" font-size=\"14.00\">Oversampler</text>\n",
       "<polyline fill=\"none\" stroke=\"black\" points=\"746,-83.5 912,-83.5 \"/>\n",
       "<text text-anchor=\"start\" x=\"754\" y=\"-68.3\" font-family=\"Times New Roman,serif\" font-size=\"14.00\">sampling_ratio : 0.25</text>\n",
       "<text text-anchor=\"start\" x=\"754\" y=\"-53.3\" font-family=\"Times New Roman,serif\" font-size=\"14.00\">k_neighbors_default : 5</text>\n",
       "<text text-anchor=\"start\" x=\"754\" y=\"-38.3\" font-family=\"Times New Roman,serif\" font-size=\"14.00\">n_jobs : &#45;1</text>\n",
       "<text text-anchor=\"start\" x=\"754\" y=\"-23.3\" font-family=\"Times New Roman,serif\" font-size=\"14.00\">sampling_ratio_dict : None</text>\n",
       "<text text-anchor=\"start\" x=\"754\" y=\"-8.3\" font-family=\"Times New Roman,serif\" font-size=\"14.00\">k_neighbors : 5</text>\n",
       "</g>\n",
       "<!-- Label Encoder&#45;&gt;Oversampler -->\n",
       "<g id=\"edge8\" class=\"edge\">\n",
       "<title>Label Encoder&#45;&gt;Oversampler</title>\n",
       "<path fill=\"none\" stroke=\"black\" stroke-dasharray=\"1,5\" d=\"M205.16,-39.47C311.51,-27.78 527.91,-9.42 710,-28.5 718.38,-29.38 727.05,-30.6 735.7,-32.03\"/>\n",
       "<polygon fill=\"black\" stroke=\"black\" points=\"735.37,-35.53 745.82,-33.8 736.58,-28.63 735.37,-35.53\"/>\n",
       "</g>\n",
       "<!-- Natural Language Featurizer&#45;&gt;Imputer -->\n",
       "<g id=\"edge1\" class=\"edge\">\n",
       "<title>Natural Language Featurizer&#45;&gt;Imputer</title>\n",
       "<path fill=\"none\" stroke=\"black\" d=\"M414.01,-99.16C422.36,-99.13 430.98,-99.09 439.69,-99.06\"/>\n",
       "<polygon fill=\"black\" stroke=\"black\" points=\"439.95,-102.56 449.94,-99.02 439.93,-95.56 439.95,-102.56\"/>\n",
       "</g>\n",
       "<!-- Imputer&#45;&gt;Oversampler -->\n",
       "<g id=\"edge2\" class=\"edge\">\n",
       "<title>Imputer&#45;&gt;Oversampler</title>\n",
       "<path fill=\"none\" stroke=\"black\" d=\"M710.29,-74.95C718.83,-73.39 727.34,-71.84 735.65,-70.32\"/>\n",
       "<polygon fill=\"black\" stroke=\"black\" points=\"736.47,-73.73 745.68,-68.5 735.21,-66.85 736.47,-73.73\"/>\n",
       "</g>\n",
       "<!-- Random Forest Classifier -->\n",
       "<g id=\"node5\" class=\"node\">\n",
       "<title>Random Forest Classifier</title>\n",
       "<polygon fill=\"none\" stroke=\"black\" points=\"948,-15.5 948,-91.5 1104,-91.5 1104,-15.5 948,-15.5\"/>\n",
       "<text text-anchor=\"middle\" x=\"1026\" y=\"-76.3\" font-family=\"Times New Roman,serif\" font-size=\"14.00\">Random Forest Classifier</text>\n",
       "<polyline fill=\"none\" stroke=\"black\" points=\"948,-68.5 1104,-68.5 \"/>\n",
       "<text text-anchor=\"start\" x=\"956\" y=\"-53.3\" font-family=\"Times New Roman,serif\" font-size=\"14.00\">n_estimators : 100</text>\n",
       "<text text-anchor=\"start\" x=\"956\" y=\"-38.3\" font-family=\"Times New Roman,serif\" font-size=\"14.00\">max_depth : 6</text>\n",
       "<text text-anchor=\"start\" x=\"956\" y=\"-23.3\" font-family=\"Times New Roman,serif\" font-size=\"14.00\">n_jobs : &#45;1</text>\n",
       "</g>\n",
       "<!-- Oversampler&#45;&gt;Random Forest Classifier -->\n",
       "<g id=\"edge3\" class=\"edge\">\n",
       "<title>Oversampler&#45;&gt;Random Forest Classifier</title>\n",
       "<path fill=\"none\" stroke=\"black\" d=\"M912.13,-46.83C920.66,-46.74 929.35,-46.73 937.93,-46.78\"/>\n",
       "<polygon fill=\"black\" stroke=\"black\" points=\"937.9,-50.28 947.94,-46.88 937.97,-43.28 937.9,-50.28\"/>\n",
       "</g>\n",
       "<!-- Oversampler&#45;&gt;Random Forest Classifier -->\n",
       "<g id=\"edge9\" class=\"edge\">\n",
       "<title>Oversampler&#45;&gt;Random Forest Classifier</title>\n",
       "<path fill=\"none\" stroke=\"black\" stroke-dasharray=\"1,5\" d=\"M912.13,-60.17C920.66,-60.26 929.35,-60.27 937.93,-60.22\"/>\n",
       "<polygon fill=\"black\" stroke=\"black\" points=\"937.97,-63.72 947.94,-60.12 937.9,-56.72 937.97,-63.72\"/>\n",
       "</g>\n",
       "<!-- X -->\n",
       "<g id=\"node6\" class=\"node\">\n",
       "<title>X</title>\n",
       "<ellipse fill=\"none\" stroke=\"black\" cx=\"18\" cy=\"-99.5\" rx=\"18\" ry=\"18\"/>\n",
       "<text text-anchor=\"middle\" x=\"18\" y=\"-95.8\" font-family=\"Times New Roman,serif\" font-size=\"14.00\">X</text>\n",
       "</g>\n",
       "<!-- X&#45;&gt;Label Encoder -->\n",
       "<g id=\"edge4\" class=\"edge\">\n",
       "<title>X&#45;&gt;Label Encoder</title>\n",
       "<path fill=\"none\" stroke=\"black\" d=\"M34.98,-92.49C45.65,-87.8 60.44,-81.31 75.47,-74.72\"/>\n",
       "<polygon fill=\"black\" stroke=\"black\" points=\"77.08,-77.84 84.83,-70.61 74.27,-71.43 77.08,-77.84\"/>\n",
       "</g>\n",
       "<!-- X&#45;&gt;Natural Language Featurizer -->\n",
       "<g id=\"edge5\" class=\"edge\">\n",
       "<title>X&#45;&gt;Natural Language Featurizer</title>\n",
       "<path fill=\"none\" stroke=\"black\" d=\"M36.41,-99.5C73.23,-99.5 161.28,-99.5 230.78,-99.5\"/>\n",
       "<polygon fill=\"black\" stroke=\"black\" points=\"230.9,-103 240.9,-99.5 230.9,-96 230.9,-103\"/>\n",
       "</g>\n",
       "<!-- y -->\n",
       "<g id=\"node7\" class=\"node\">\n",
       "<title>y</title>\n",
       "<ellipse fill=\"none\" stroke=\"black\" cx=\"18\" cy=\"-45.5\" rx=\"18\" ry=\"18\"/>\n",
       "<text text-anchor=\"middle\" x=\"18\" y=\"-41.8\" font-family=\"Times New Roman,serif\" font-size=\"14.00\">y</text>\n",
       "</g>\n",
       "<!-- y&#45;&gt;Label Encoder -->\n",
       "<g id=\"edge10\" class=\"edge\">\n",
       "<title>y&#45;&gt;Label Encoder</title>\n",
       "<path fill=\"none\" stroke=\"black\" stroke-dasharray=\"1,5\" d=\"M36.23,-45.79C43.42,-45.91 52.32,-46.06 61.83,-46.22\"/>\n",
       "<polygon fill=\"black\" stroke=\"black\" points=\"61.86,-49.72 71.92,-46.39 61.98,-42.72 61.86,-49.72\"/>\n",
       "</g>\n",
       "</g>\n",
       "</svg>\n"
      ],
      "text/plain": [
       "<graphviz.graphs.Digraph at 0x1d942133760>"
      ]
     },
     "execution_count": 48,
     "metadata": {},
     "output_type": "execute_result"
    }
   ],
   "source": [
    "best_pipeline.graph()"
   ]
  },
  {
   "cell_type": "code",
   "execution_count": 37,
   "id": "bb2d8d8e",
   "metadata": {},
   "outputs": [
    {
     "name": "stdout",
     "output_type": "stream",
     "text": [
      "Accuracy Binary: 0.9479820627802691\n"
     ]
    }
   ],
   "source": [
    "scores = best_pipeline.score(\n",
    "    X_holdout, y_holdout, objectives=evalml.objectives.get_core_objectives(\"binary\")\n",
    ")\n",
    "print(f'Accuracy Binary: {scores[\"Accuracy Binary\"]}')"
   ]
  },
  {
   "cell_type": "code",
   "execution_count": 70,
   "id": "1654dcd3",
   "metadata": {},
   "outputs": [
    {
     "data": {
      "text/plain": [
       "'Random Forest Classifier w/ Label Encoder + Natural Language Featurizer + Imputer + Oversampler'"
      ]
     },
     "execution_count": 70,
     "metadata": {},
     "output_type": "execute_result"
    }
   ],
   "source": [
    "automl.rankings.iloc[0][\"pipeline_name\"]"
   ]
  },
  {
   "cell_type": "code",
   "execution_count": 44,
   "id": "d1e91f51",
   "metadata": {},
   "outputs": [
    {
     "data": {
      "text/plain": [
       "OrderedDict([('MCC Binary', 0.7683176325175218),\n",
       "             ('Log Loss Binary', 0.1489465767500509),\n",
       "             ('Gini', 0.9283004710492309),\n",
       "             ('AUC', 0.9641502355246154),\n",
       "             ('Precision', 0.8321167883211679),\n",
       "             ('F1', 0.7972027972027971),\n",
       "             ('Balanced Accuracy Binary', 0.8706455736657079),\n",
       "             ('Accuracy Binary', 0.9479820627802691)])"
      ]
     },
     "execution_count": 44,
     "metadata": {},
     "output_type": "execute_result"
    }
   ],
   "source": [
    "scores"
   ]
  },
  {
   "cell_type": "code",
   "execution_count": 67,
   "id": "4ade86e6",
   "metadata": {},
   "outputs": [
    {
     "data": {
      "text/plain": [
       "pipeline = BinaryClassificationPipeline(component_graph={'Label Encoder': ['Label Encoder', 'X', 'y'], 'Natural Language Featurizer': ['Natural Language Featurizer', 'X', 'Label Encoder.y'], 'Imputer': ['Imputer', 'Natural Language Featurizer.x', 'Label Encoder.y'], 'Oversampler': ['Oversampler', 'Imputer.x', 'Label Encoder.y'], 'Random Forest Classifier': ['Random Forest Classifier', 'Oversampler.x', 'Oversampler.y']}, parameters={'Label Encoder':{'positive_label': None}, 'Imputer':{'categorical_impute_strategy': 'most_frequent', 'numeric_impute_strategy': 'mean', 'boolean_impute_strategy': 'most_frequent', 'categorical_fill_value': None, 'numeric_fill_value': None, 'boolean_fill_value': None}, 'Oversampler':{'sampling_ratio': 0.25, 'k_neighbors_default': 5, 'n_jobs': -1, 'sampling_ratio_dict': None, 'k_neighbors': 5}, 'Random Forest Classifier':{'n_estimators': 100, 'max_depth': 6, 'n_jobs': -1}}, random_seed=0)"
      ]
     },
     "execution_count": 67,
     "metadata": {},
     "output_type": "execute_result"
    }
   ],
   "source": [
    "best_pipeline"
   ]
  },
  {
   "cell_type": "code",
   "execution_count": 69,
   "id": "662edbc9",
   "metadata": {},
   "outputs": [
    {
     "data": {
      "text/plain": [
       "{'Label Encoder': {'positive_label': None},\n",
       " 'Imputer': {'categorical_impute_strategy': 'most_frequent',\n",
       "  'numeric_impute_strategy': 'mean',\n",
       "  'boolean_impute_strategy': 'most_frequent',\n",
       "  'categorical_fill_value': None,\n",
       "  'numeric_fill_value': None,\n",
       "  'boolean_fill_value': None},\n",
       " 'Oversampler': {'sampling_ratio': 0.25,\n",
       "  'k_neighbors_default': 5,\n",
       "  'n_jobs': -1,\n",
       "  'sampling_ratio_dict': None,\n",
       "  'k_neighbors': 5},\n",
       " 'Random Forest Classifier': {'n_estimators': 100,\n",
       "  'max_depth': 6,\n",
       "  'n_jobs': -1}}"
      ]
     },
     "execution_count": 69,
     "metadata": {},
     "output_type": "execute_result"
    }
   ],
   "source": [
    "best_pipeline.parameters\n",
    "#['Label Encoder']"
   ]
  },
  {
   "cell_type": "code",
   "execution_count": 38,
   "id": "beda0021",
   "metadata": {},
   "outputs": [
    {
     "data": {
      "text/plain": [
       "{'Label Encoder': ['Message'],\n",
       " 'Natural Language Featurizer': ['Message'],\n",
       " 'Imputer': ['DIVERSITY_SCORE(Message)',\n",
       "  'MEAN_CHARACTERS_PER_WORD(Message)',\n",
       "  'NUM_CHARACTERS(Message)',\n",
       "  'NUM_WORDS(Message)',\n",
       "  'POLARITY_SCORE(Message)',\n",
       "  'LSA(Message)[0]',\n",
       "  'LSA(Message)[1]'],\n",
       " 'Oversampler': ['DIVERSITY_SCORE(Message)',\n",
       "  'MEAN_CHARACTERS_PER_WORD(Message)',\n",
       "  'NUM_CHARACTERS(Message)',\n",
       "  'NUM_WORDS(Message)',\n",
       "  'POLARITY_SCORE(Message)',\n",
       "  'LSA(Message)[0]',\n",
       "  'LSA(Message)[1]'],\n",
       " 'Random Forest Classifier': ['DIVERSITY_SCORE(Message)',\n",
       "  'MEAN_CHARACTERS_PER_WORD(Message)',\n",
       "  'NUM_CHARACTERS(Message)',\n",
       "  'NUM_WORDS(Message)',\n",
       "  'POLARITY_SCORE(Message)',\n",
       "  'LSA(Message)[0]',\n",
       "  'LSA(Message)[1]']}"
      ]
     },
     "execution_count": 38,
     "metadata": {},
     "output_type": "execute_result"
    }
   ],
   "source": [
    "best_pipeline.input_feature_names"
   ]
  },
  {
   "cell_type": "code",
   "execution_count": 39,
   "id": "3e18c10d",
   "metadata": {},
   "outputs": [],
   "source": [
    "natural_language_featurizer = evalml.pipelines.components.NaturalLanguageFeaturizer()\n",
    "X_featurized = natural_language_featurizer.fit_transform(X_train)"
   ]
  },
  {
   "cell_type": "code",
   "execution_count": 40,
   "id": "66102fe8",
   "metadata": {},
   "outputs": [
    {
     "data": {
      "text/html": [
       "<div>\n",
       "<style scoped>\n",
       "    .dataframe tbody tr th:only-of-type {\n",
       "        vertical-align: middle;\n",
       "    }\n",
       "\n",
       "    .dataframe tbody tr th {\n",
       "        vertical-align: top;\n",
       "    }\n",
       "\n",
       "    .dataframe thead th {\n",
       "        text-align: right;\n",
       "    }\n",
       "</style>\n",
       "<table border=\"1\" class=\"dataframe\">\n",
       "  <thead>\n",
       "    <tr style=\"text-align: right;\">\n",
       "      <th></th>\n",
       "      <th>Message</th>\n",
       "    </tr>\n",
       "  </thead>\n",
       "  <tbody>\n",
       "    <tr>\n",
       "      <th>1257</th>\n",
       "      <td>Am also doing in cbe only. But have to pay.</td>\n",
       "    </tr>\n",
       "    <tr>\n",
       "      <th>5461</th>\n",
       "      <td>Ok i thk i got it. Then u wan me 2 come now or...</td>\n",
       "    </tr>\n",
       "    <tr>\n",
       "      <th>1612</th>\n",
       "      <td>RT-KIng Pro Video Club&gt;&gt; Need help? info@ringt...</td>\n",
       "    </tr>\n",
       "    <tr>\n",
       "      <th>2179</th>\n",
       "      <td>And popping &amp;lt;#&amp;gt; ibuprofens was no help.</td>\n",
       "    </tr>\n",
       "    <tr>\n",
       "      <th>2638</th>\n",
       "      <td>Am in gobi arts college</td>\n",
       "    </tr>\n",
       "  </tbody>\n",
       "</table>\n",
       "</div>"
      ],
      "text/plain": [
       "                                                Message\n",
       "1257        Am also doing in cbe only. But have to pay.\n",
       "5461  Ok i thk i got it. Then u wan me 2 come now or...\n",
       "1612  RT-KIng Pro Video Club>> Need help? info@ringt...\n",
       "2179      And popping &lt;#&gt; ibuprofens was no help.\n",
       "2638                            Am in gobi arts college"
      ]
     },
     "execution_count": 40,
     "metadata": {},
     "output_type": "execute_result"
    }
   ],
   "source": [
    "X_train.head()"
   ]
  },
  {
   "cell_type": "code",
   "execution_count": 41,
   "id": "278de827",
   "metadata": {},
   "outputs": [
    {
     "data": {
      "text/html": [
       "<div>\n",
       "<style scoped>\n",
       "    .dataframe tbody tr th:only-of-type {\n",
       "        vertical-align: middle;\n",
       "    }\n",
       "\n",
       "    .dataframe tbody tr th {\n",
       "        vertical-align: top;\n",
       "    }\n",
       "\n",
       "    .dataframe thead th {\n",
       "        text-align: right;\n",
       "    }\n",
       "</style>\n",
       "<table border=\"1\" class=\"dataframe\">\n",
       "  <thead>\n",
       "    <tr style=\"text-align: right;\">\n",
       "      <th></th>\n",
       "      <th>DIVERSITY_SCORE(Message)</th>\n",
       "      <th>MEAN_CHARACTERS_PER_WORD(Message)</th>\n",
       "      <th>NUM_CHARACTERS(Message)</th>\n",
       "      <th>NUM_WORDS(Message)</th>\n",
       "      <th>POLARITY_SCORE(Message)</th>\n",
       "      <th>LSA(Message)[0]</th>\n",
       "      <th>LSA(Message)[1]</th>\n",
       "    </tr>\n",
       "  </thead>\n",
       "  <tbody>\n",
       "    <tr>\n",
       "      <th>1257</th>\n",
       "      <td>1.000</td>\n",
       "      <td>3.200000</td>\n",
       "      <td>41.0</td>\n",
       "      <td>10.0</td>\n",
       "      <td>-0.412</td>\n",
       "      <td>0.173654</td>\n",
       "      <td>-0.006241</td>\n",
       "    </tr>\n",
       "    <tr>\n",
       "      <th>5461</th>\n",
       "      <td>1.000</td>\n",
       "      <td>2.333333</td>\n",
       "      <td>49.0</td>\n",
       "      <td>15.0</td>\n",
       "      <td>0.306</td>\n",
       "      <td>0.199275</td>\n",
       "      <td>0.143747</td>\n",
       "    </tr>\n",
       "    <tr>\n",
       "      <th>1612</th>\n",
       "      <td>0.875</td>\n",
       "      <td>6.050000</td>\n",
       "      <td>140.0</td>\n",
       "      <td>20.0</td>\n",
       "      <td>0.436</td>\n",
       "      <td>0.084530</td>\n",
       "      <td>0.029641</td>\n",
       "    </tr>\n",
       "    <tr>\n",
       "      <th>2179</th>\n",
       "      <td>1.000</td>\n",
       "      <td>4.714286</td>\n",
       "      <td>39.0</td>\n",
       "      <td>7.0</td>\n",
       "      <td>0.474</td>\n",
       "      <td>0.105068</td>\n",
       "      <td>0.013377</td>\n",
       "    </tr>\n",
       "    <tr>\n",
       "      <th>2638</th>\n",
       "      <td>1.000</td>\n",
       "      <td>3.800000</td>\n",
       "      <td>23.0</td>\n",
       "      <td>5.0</td>\n",
       "      <td>0.000</td>\n",
       "      <td>0.053456</td>\n",
       "      <td>0.014601</td>\n",
       "    </tr>\n",
       "  </tbody>\n",
       "</table>\n",
       "</div>"
      ],
      "text/plain": [
       "      DIVERSITY_SCORE(Message)  MEAN_CHARACTERS_PER_WORD(Message)  \\\n",
       "1257                     1.000                           3.200000   \n",
       "5461                     1.000                           2.333333   \n",
       "1612                     0.875                           6.050000   \n",
       "2179                     1.000                           4.714286   \n",
       "2638                     1.000                           3.800000   \n",
       "\n",
       "      NUM_CHARACTERS(Message)  NUM_WORDS(Message)  POLARITY_SCORE(Message)  \\\n",
       "1257                     41.0                10.0                   -0.412   \n",
       "5461                     49.0                15.0                    0.306   \n",
       "1612                    140.0                20.0                    0.436   \n",
       "2179                     39.0                 7.0                    0.474   \n",
       "2638                     23.0                 5.0                    0.000   \n",
       "\n",
       "      LSA(Message)[0]  LSA(Message)[1]  \n",
       "1257         0.173654        -0.006241  \n",
       "5461         0.199275         0.143747  \n",
       "1612         0.084530         0.029641  \n",
       "2179         0.105068         0.013377  \n",
       "2638         0.053456         0.014601  "
      ]
     },
     "execution_count": 41,
     "metadata": {},
     "output_type": "execute_result"
    }
   ],
   "source": [
    "X_featurized.head()"
   ]
  },
  {
   "cell_type": "code",
   "execution_count": null,
   "id": "2b96220f",
   "metadata": {},
   "outputs": [],
   "source": [
    "mlflow.sklearn.autog()"
   ]
  },
  {
   "cell_type": "code",
   "execution_count": null,
   "id": "b8e7d290",
   "metadata": {},
   "outputs": [],
   "source": [
    "with mlflow.start_run(run_name =\"evalml\"):\n",
    "    run_uuid = mlflow.active_run().info.run_uuid\n",
    "    print(\"MLflow Run ID: %s\" % run_uuid)\n",
    "    \n",
    "    # log parameters\n",
    "    #mlflow.log_param(\"alpha\", 0.001)\n",
    "    mlflow.log_param(\"epochs\", epochs)\n",
    "    mlflow.log_param(\"optimizer\", opt)\n",
    "    mlflow.log_param(\"batch_size\", batch_size)\n",
    "    \n",
    "    # calculate metrics\n",
    "    mlflow.log_metric(\"Accuracy Binary\",scores[\"Accuracy Binary\"])\n",
    "    mlflow.log_metric(\"precision\", scores['Precision'])\n",
    "    mlflow.log_metric(\"F1\",scores['F1'] )\n",
    "    mlflow.log_metric('Balanced Accuracy Binary', scores['Balanced Accuracy Binary'])\n",
    "    \n",
    "    # log artifacts\n",
    "    #mlflow.log_artifacts(image_dir, \"lstm_images\")\n",
    "\n",
    "    mlflow.sklearn.log_model(automl.rankings.iloc[0][\"pipeline_name\"],\"model_family\")\n",
    "    \n",
    "   \n",
    "    "
   ]
  },
  {
   "cell_type": "code",
   "execution_count": 42,
   "id": "8e2b50a8",
   "metadata": {},
   "outputs": [],
   "source": [
    "from evalml.utils import infer_feature_types\n",
    "\n",
    "X = infer_feature_types(X, {\"Message\": \"Categorical\"})\n",
    "X_train, X_holdout, y_train, y_holdout = evalml.preprocessing.split_data(\n",
    "    X, y, problem_type=\"binary\", test_size=0.2, random_seed=0\n",
    ")"
   ]
  },
  {
   "cell_type": "code",
   "execution_count": 43,
   "id": "89c4ab5d",
   "metadata": {},
   "outputs": [
    {
     "name": "stdout",
     "output_type": "stream",
     "text": [
      "\n",
      "*****************************\n",
      "* Beginning pipeline search *\n",
      "*****************************\n",
      "\n",
      "Optimizing for Log Loss Binary. \n",
      "Lower score is better.\n",
      "\n",
      "Using SequentialEngine to train and score pipelines.\n",
      "Searching up to 1 batches for a total of None pipelines. \n",
      "Allowed model families: \n",
      "\n"
     ]
    },
    {
     "data": {
      "application/vnd.jupyter.widget-view+json": {
       "model_id": "d0c5ad87e996473b8afc36cd0f17d746",
       "version_major": 2,
       "version_minor": 0
      },
      "text/plain": [
       "FigureWidget({\n",
       "    'data': [{'mode': 'lines+markers',\n",
       "              'name': 'Best Score',\n",
       "              'type'…"
      ]
     },
     "metadata": {},
     "output_type": "display_data"
    },
    {
     "name": "stdout",
     "output_type": "stream",
     "text": [
      "Evaluating Baseline Pipeline: Mode Baseline Binary Classification Pipeline\n",
      "Mode Baseline Binary Classification Pipeline:\n",
      "\tStarting cross validation\n",
      "\tFinished cross validation - mean Log Loss Binary: 4.634\n",
      "\n",
      "*****************************\n",
      "* Evaluating Batch Number 1 *\n",
      "*****************************\n",
      "\n",
      "Logistic Regression Classifier w/ Label Encoder + Natural Language Featurizer + Imputer + Oversampler + Standard Scaler:\n",
      "\tStarting cross validation\n",
      "\tFinished cross validation - mean Log Loss Binary: 0.198\n",
      "Random Forest Classifier w/ Label Encoder + Natural Language Featurizer + Imputer + Oversampler:\n",
      "\tStarting cross validation\n",
      "\tFinished cross validation - mean Log Loss Binary: 0.146\n",
      "\n",
      "Search finished after 05:07            \n",
      "Best pipeline: Random Forest Classifier w/ Label Encoder + Natural Language Featurizer + Imputer + Oversampler\n",
      "Best pipeline Log Loss Binary: 0.146011\n"
     ]
    }
   ],
   "source": [
    "automl_no_text = AutoMLSearch(\n",
    "    X_train=X_train,\n",
    "    y_train=y_train,\n",
    "    problem_type=\"binary\",\n",
    "    max_batches=1,\n",
    "    optimize_thresholds=True,\n",
    "    verbose=True,\n",
    ")\n",
    "\n",
    "automl_no_text.search()"
   ]
  },
  {
   "cell_type": "code",
   "execution_count": 45,
   "id": "21baa3ff",
   "metadata": {},
   "outputs": [
    {
     "data": {
      "text/html": [
       "<div>\n",
       "<style scoped>\n",
       "    .dataframe tbody tr th:only-of-type {\n",
       "        vertical-align: middle;\n",
       "    }\n",
       "\n",
       "    .dataframe tbody tr th {\n",
       "        vertical-align: top;\n",
       "    }\n",
       "\n",
       "    .dataframe thead th {\n",
       "        text-align: right;\n",
       "    }\n",
       "</style>\n",
       "<table border=\"1\" class=\"dataframe\">\n",
       "  <thead>\n",
       "    <tr style=\"text-align: right;\">\n",
       "      <th></th>\n",
       "      <th>id</th>\n",
       "      <th>pipeline_name</th>\n",
       "      <th>search_order</th>\n",
       "      <th>mean_cv_score</th>\n",
       "      <th>standard_deviation_cv_score</th>\n",
       "      <th>validation_score</th>\n",
       "      <th>percent_better_than_baseline</th>\n",
       "      <th>high_variance_cv</th>\n",
       "      <th>parameters</th>\n",
       "    </tr>\n",
       "  </thead>\n",
       "  <tbody>\n",
       "    <tr>\n",
       "      <th>0</th>\n",
       "      <td>2</td>\n",
       "      <td>Random Forest Classifier w/ Label Encoder + Na...</td>\n",
       "      <td>2</td>\n",
       "      <td>0.146011</td>\n",
       "      <td>0.006984</td>\n",
       "      <td>0.146011</td>\n",
       "      <td>96.849200</td>\n",
       "      <td>False</td>\n",
       "      <td>{'Label Encoder': {'positive_label': None}, 'I...</td>\n",
       "    </tr>\n",
       "    <tr>\n",
       "      <th>1</th>\n",
       "      <td>1</td>\n",
       "      <td>Logistic Regression Classifier w/ Label Encode...</td>\n",
       "      <td>1</td>\n",
       "      <td>0.197820</td>\n",
       "      <td>0.004809</td>\n",
       "      <td>0.197820</td>\n",
       "      <td>95.731211</td>\n",
       "      <td>False</td>\n",
       "      <td>{'Label Encoder': {'positive_label': None}, 'I...</td>\n",
       "    </tr>\n",
       "    <tr>\n",
       "      <th>2</th>\n",
       "      <td>0</td>\n",
       "      <td>Mode Baseline Binary Classification Pipeline</td>\n",
       "      <td>0</td>\n",
       "      <td>4.634100</td>\n",
       "      <td>0.012617</td>\n",
       "      <td>4.634100</td>\n",
       "      <td>0.000000</td>\n",
       "      <td>False</td>\n",
       "      <td>{'Label Encoder': {'positive_label': None}, 'B...</td>\n",
       "    </tr>\n",
       "  </tbody>\n",
       "</table>\n",
       "</div>"
      ],
      "text/plain": [
       "   id                                      pipeline_name  search_order  \\\n",
       "0   2  Random Forest Classifier w/ Label Encoder + Na...             2   \n",
       "1   1  Logistic Regression Classifier w/ Label Encode...             1   \n",
       "2   0       Mode Baseline Binary Classification Pipeline             0   \n",
       "\n",
       "   mean_cv_score  standard_deviation_cv_score  validation_score  \\\n",
       "0       0.146011                     0.006984          0.146011   \n",
       "1       0.197820                     0.004809          0.197820   \n",
       "2       4.634100                     0.012617          4.634100   \n",
       "\n",
       "   percent_better_than_baseline  high_variance_cv  \\\n",
       "0                     96.849200             False   \n",
       "1                     95.731211             False   \n",
       "2                      0.000000             False   \n",
       "\n",
       "                                          parameters  \n",
       "0  {'Label Encoder': {'positive_label': None}, 'I...  \n",
       "1  {'Label Encoder': {'positive_label': None}, 'I...  \n",
       "2  {'Label Encoder': {'positive_label': None}, 'B...  "
      ]
     },
     "execution_count": 45,
     "metadata": {},
     "output_type": "execute_result"
    }
   ],
   "source": [
    "automl_no_text.rankings"
   ]
  },
  {
   "cell_type": "code",
   "execution_count": 46,
   "id": "bbdb8231",
   "metadata": {},
   "outputs": [],
   "source": [
    "best_pipeline_no_text = automl_no_text.best_pipeline"
   ]
  },
  {
   "cell_type": "code",
   "execution_count": 47,
   "id": "39f3325a",
   "metadata": {},
   "outputs": [
    {
     "data": {
      "image/svg+xml": [
       "<?xml version=\"1.0\" encoding=\"UTF-8\" standalone=\"no\"?>\n",
       "<!DOCTYPE svg PUBLIC \"-//W3C//DTD SVG 1.1//EN\"\n",
       " \"http://www.w3.org/Graphics/SVG/1.1/DTD/svg11.dtd\">\n",
       "<!-- Generated by graphviz version 2.50.0 (0)\n",
       " -->\n",
       "<!-- Pages: 1 -->\n",
       "<svg width=\"1112pt\" height=\"168pt\"\n",
       " viewBox=\"0.00 0.00 1112.00 167.50\" xmlns=\"http://www.w3.org/2000/svg\" xmlns:xlink=\"http://www.w3.org/1999/xlink\">\n",
       "<g id=\"graph0\" class=\"graph\" transform=\"scale(1 1) rotate(0) translate(4 163.5)\">\n",
       "<polygon fill=\"white\" stroke=\"transparent\" points=\"-4,4 -4,-163.5 1108,-163.5 1108,4 -4,4\"/>\n",
       "<!-- Label Encoder -->\n",
       "<g id=\"node1\" class=\"node\">\n",
       "<title>Label Encoder</title>\n",
       "<polygon fill=\"none\" stroke=\"black\" points=\"72,-24.5 72,-70.5 205,-70.5 205,-24.5 72,-24.5\"/>\n",
       "<text text-anchor=\"middle\" x=\"138.5\" y=\"-55.3\" font-family=\"Times New Roman,serif\" font-size=\"14.00\">Label Encoder</text>\n",
       "<polyline fill=\"none\" stroke=\"black\" points=\"72,-47.5 205,-47.5 \"/>\n",
       "<text text-anchor=\"start\" x=\"80\" y=\"-32.3\" font-family=\"Times New Roman,serif\" font-size=\"14.00\">positive_label : None</text>\n",
       "</g>\n",
       "<!-- Natural Language Featurizer -->\n",
       "<g id=\"node2\" class=\"node\">\n",
       "<title>Natural Language Featurizer</title>\n",
       "<polygon fill=\"none\" stroke=\"black\" points=\"241,-76 241,-123 414,-123 414,-76 241,-76\"/>\n",
       "<text text-anchor=\"middle\" x=\"327.5\" y=\"-107.8\" font-family=\"Times New Roman,serif\" font-size=\"14.00\">Natural Language Featurizer</text>\n",
       "<polyline fill=\"none\" stroke=\"black\" points=\"241,-100 414,-100 \"/>\n",
       "</g>\n",
       "<!-- Label Encoder&#45;&gt;Natural Language Featurizer -->\n",
       "<g id=\"edge6\" class=\"edge\">\n",
       "<title>Label Encoder&#45;&gt;Natural Language Featurizer</title>\n",
       "<path fill=\"none\" stroke=\"black\" stroke-dasharray=\"1,5\" d=\"M205.17,-65.76C213.9,-68.19 222.99,-70.72 232.09,-73.25\"/>\n",
       "<polygon fill=\"black\" stroke=\"black\" points=\"231.38,-76.68 241.95,-75.99 233.26,-69.94 231.38,-76.68\"/>\n",
       "</g>\n",
       "<!-- Imputer -->\n",
       "<g id=\"node3\" class=\"node\">\n",
       "<title>Imputer</title>\n",
       "<polygon fill=\"none\" stroke=\"black\" points=\"450,-38 450,-159 710,-159 710,-38 450,-38\"/>\n",
       "<text text-anchor=\"middle\" x=\"580\" y=\"-143.8\" font-family=\"Times New Roman,serif\" font-size=\"14.00\">Imputer</text>\n",
       "<polyline fill=\"none\" stroke=\"black\" points=\"450,-136 710,-136 \"/>\n",
       "<text text-anchor=\"start\" x=\"458\" y=\"-120.8\" font-family=\"Times New Roman,serif\" font-size=\"14.00\">categorical_impute_strategy : most_frequent</text>\n",
       "<text text-anchor=\"start\" x=\"458\" y=\"-105.8\" font-family=\"Times New Roman,serif\" font-size=\"14.00\">numeric_impute_strategy : mean</text>\n",
       "<text text-anchor=\"start\" x=\"458\" y=\"-90.8\" font-family=\"Times New Roman,serif\" font-size=\"14.00\">boolean_impute_strategy : most_frequent</text>\n",
       "<text text-anchor=\"start\" x=\"458\" y=\"-75.8\" font-family=\"Times New Roman,serif\" font-size=\"14.00\">categorical_fill_value : None</text>\n",
       "<text text-anchor=\"start\" x=\"458\" y=\"-60.8\" font-family=\"Times New Roman,serif\" font-size=\"14.00\">numeric_fill_value : None</text>\n",
       "<text text-anchor=\"start\" x=\"458\" y=\"-45.8\" font-family=\"Times New Roman,serif\" font-size=\"14.00\">boolean_fill_value : None</text>\n",
       "</g>\n",
       "<!-- Label Encoder&#45;&gt;Imputer -->\n",
       "<g id=\"edge7\" class=\"edge\">\n",
       "<title>Label Encoder&#45;&gt;Imputer</title>\n",
       "<path fill=\"none\" stroke=\"black\" stroke-dasharray=\"1,5\" d=\"M205.17,-49.78C260.92,-52.26 342.95,-57.19 414,-66.5 422.51,-67.62 431.25,-68.9 440.05,-70.29\"/>\n",
       "<polygon fill=\"black\" stroke=\"black\" points=\"439.56,-73.76 449.99,-71.91 440.69,-66.85 439.56,-73.76\"/>\n",
       "</g>\n",
       "<!-- Oversampler -->\n",
       "<g id=\"node4\" class=\"node\">\n",
       "<title>Oversampler</title>\n",
       "<polygon fill=\"none\" stroke=\"black\" points=\"746,-0.5 746,-106.5 912,-106.5 912,-0.5 746,-0.5\"/>\n",
       "<text text-anchor=\"middle\" x=\"829\" y=\"-91.3\" font-family=\"Times New Roman,serif\" font-size=\"14.00\">Oversampler</text>\n",
       "<polyline fill=\"none\" stroke=\"black\" points=\"746,-83.5 912,-83.5 \"/>\n",
       "<text text-anchor=\"start\" x=\"754\" y=\"-68.3\" font-family=\"Times New Roman,serif\" font-size=\"14.00\">sampling_ratio : 0.25</text>\n",
       "<text text-anchor=\"start\" x=\"754\" y=\"-53.3\" font-family=\"Times New Roman,serif\" font-size=\"14.00\">k_neighbors_default : 5</text>\n",
       "<text text-anchor=\"start\" x=\"754\" y=\"-38.3\" font-family=\"Times New Roman,serif\" font-size=\"14.00\">n_jobs : &#45;1</text>\n",
       "<text text-anchor=\"start\" x=\"754\" y=\"-23.3\" font-family=\"Times New Roman,serif\" font-size=\"14.00\">sampling_ratio_dict : None</text>\n",
       "<text text-anchor=\"start\" x=\"754\" y=\"-8.3\" font-family=\"Times New Roman,serif\" font-size=\"14.00\">k_neighbors : 5</text>\n",
       "</g>\n",
       "<!-- Label Encoder&#45;&gt;Oversampler -->\n",
       "<g id=\"edge8\" class=\"edge\">\n",
       "<title>Label Encoder&#45;&gt;Oversampler</title>\n",
       "<path fill=\"none\" stroke=\"black\" stroke-dasharray=\"1,5\" d=\"M205.16,-39.47C311.51,-27.78 527.91,-9.42 710,-28.5 718.38,-29.38 727.05,-30.6 735.7,-32.03\"/>\n",
       "<polygon fill=\"black\" stroke=\"black\" points=\"735.37,-35.53 745.82,-33.8 736.58,-28.63 735.37,-35.53\"/>\n",
       "</g>\n",
       "<!-- Natural Language Featurizer&#45;&gt;Imputer -->\n",
       "<g id=\"edge1\" class=\"edge\">\n",
       "<title>Natural Language Featurizer&#45;&gt;Imputer</title>\n",
       "<path fill=\"none\" stroke=\"black\" d=\"M414.01,-99.16C422.36,-99.13 430.98,-99.09 439.69,-99.06\"/>\n",
       "<polygon fill=\"black\" stroke=\"black\" points=\"439.95,-102.56 449.94,-99.02 439.93,-95.56 439.95,-102.56\"/>\n",
       "</g>\n",
       "<!-- Imputer&#45;&gt;Oversampler -->\n",
       "<g id=\"edge2\" class=\"edge\">\n",
       "<title>Imputer&#45;&gt;Oversampler</title>\n",
       "<path fill=\"none\" stroke=\"black\" d=\"M710.29,-74.95C718.83,-73.39 727.34,-71.84 735.65,-70.32\"/>\n",
       "<polygon fill=\"black\" stroke=\"black\" points=\"736.47,-73.73 745.68,-68.5 735.21,-66.85 736.47,-73.73\"/>\n",
       "</g>\n",
       "<!-- Random Forest Classifier -->\n",
       "<g id=\"node5\" class=\"node\">\n",
       "<title>Random Forest Classifier</title>\n",
       "<polygon fill=\"none\" stroke=\"black\" points=\"948,-15.5 948,-91.5 1104,-91.5 1104,-15.5 948,-15.5\"/>\n",
       "<text text-anchor=\"middle\" x=\"1026\" y=\"-76.3\" font-family=\"Times New Roman,serif\" font-size=\"14.00\">Random Forest Classifier</text>\n",
       "<polyline fill=\"none\" stroke=\"black\" points=\"948,-68.5 1104,-68.5 \"/>\n",
       "<text text-anchor=\"start\" x=\"956\" y=\"-53.3\" font-family=\"Times New Roman,serif\" font-size=\"14.00\">n_estimators : 100</text>\n",
       "<text text-anchor=\"start\" x=\"956\" y=\"-38.3\" font-family=\"Times New Roman,serif\" font-size=\"14.00\">max_depth : 6</text>\n",
       "<text text-anchor=\"start\" x=\"956\" y=\"-23.3\" font-family=\"Times New Roman,serif\" font-size=\"14.00\">n_jobs : &#45;1</text>\n",
       "</g>\n",
       "<!-- Oversampler&#45;&gt;Random Forest Classifier -->\n",
       "<g id=\"edge3\" class=\"edge\">\n",
       "<title>Oversampler&#45;&gt;Random Forest Classifier</title>\n",
       "<path fill=\"none\" stroke=\"black\" d=\"M912.13,-46.83C920.66,-46.74 929.35,-46.73 937.93,-46.78\"/>\n",
       "<polygon fill=\"black\" stroke=\"black\" points=\"937.9,-50.28 947.94,-46.88 937.97,-43.28 937.9,-50.28\"/>\n",
       "</g>\n",
       "<!-- Oversampler&#45;&gt;Random Forest Classifier -->\n",
       "<g id=\"edge9\" class=\"edge\">\n",
       "<title>Oversampler&#45;&gt;Random Forest Classifier</title>\n",
       "<path fill=\"none\" stroke=\"black\" stroke-dasharray=\"1,5\" d=\"M912.13,-60.17C920.66,-60.26 929.35,-60.27 937.93,-60.22\"/>\n",
       "<polygon fill=\"black\" stroke=\"black\" points=\"937.97,-63.72 947.94,-60.12 937.9,-56.72 937.97,-63.72\"/>\n",
       "</g>\n",
       "<!-- X -->\n",
       "<g id=\"node6\" class=\"node\">\n",
       "<title>X</title>\n",
       "<ellipse fill=\"none\" stroke=\"black\" cx=\"18\" cy=\"-99.5\" rx=\"18\" ry=\"18\"/>\n",
       "<text text-anchor=\"middle\" x=\"18\" y=\"-95.8\" font-family=\"Times New Roman,serif\" font-size=\"14.00\">X</text>\n",
       "</g>\n",
       "<!-- X&#45;&gt;Label Encoder -->\n",
       "<g id=\"edge4\" class=\"edge\">\n",
       "<title>X&#45;&gt;Label Encoder</title>\n",
       "<path fill=\"none\" stroke=\"black\" d=\"M34.98,-92.49C45.65,-87.8 60.44,-81.31 75.47,-74.72\"/>\n",
       "<polygon fill=\"black\" stroke=\"black\" points=\"77.08,-77.84 84.83,-70.61 74.27,-71.43 77.08,-77.84\"/>\n",
       "</g>\n",
       "<!-- X&#45;&gt;Natural Language Featurizer -->\n",
       "<g id=\"edge5\" class=\"edge\">\n",
       "<title>X&#45;&gt;Natural Language Featurizer</title>\n",
       "<path fill=\"none\" stroke=\"black\" d=\"M36.41,-99.5C73.23,-99.5 161.28,-99.5 230.78,-99.5\"/>\n",
       "<polygon fill=\"black\" stroke=\"black\" points=\"230.9,-103 240.9,-99.5 230.9,-96 230.9,-103\"/>\n",
       "</g>\n",
       "<!-- y -->\n",
       "<g id=\"node7\" class=\"node\">\n",
       "<title>y</title>\n",
       "<ellipse fill=\"none\" stroke=\"black\" cx=\"18\" cy=\"-45.5\" rx=\"18\" ry=\"18\"/>\n",
       "<text text-anchor=\"middle\" x=\"18\" y=\"-41.8\" font-family=\"Times New Roman,serif\" font-size=\"14.00\">y</text>\n",
       "</g>\n",
       "<!-- y&#45;&gt;Label Encoder -->\n",
       "<g id=\"edge10\" class=\"edge\">\n",
       "<title>y&#45;&gt;Label Encoder</title>\n",
       "<path fill=\"none\" stroke=\"black\" stroke-dasharray=\"1,5\" d=\"M36.23,-45.79C43.42,-45.91 52.32,-46.06 61.83,-46.22\"/>\n",
       "<polygon fill=\"black\" stroke=\"black\" points=\"61.86,-49.72 71.92,-46.39 61.98,-42.72 61.86,-49.72\"/>\n",
       "</g>\n",
       "</g>\n",
       "</svg>\n"
      ],
      "text/plain": [
       "<graphviz.graphs.Digraph at 0x1d942676070>"
      ]
     },
     "execution_count": 47,
     "metadata": {},
     "output_type": "execute_result"
    }
   ],
   "source": [
    "best_pipeline_no_text.graph()"
   ]
  },
  {
   "cell_type": "code",
   "execution_count": 49,
   "id": "268a3d3e",
   "metadata": {},
   "outputs": [
    {
     "name": "stdout",
     "output_type": "stream",
     "text": [
      "\n",
      "***************************************************************************************************\n",
      "* Random Forest Classifier w/ Label Encoder + Natural Language Featurizer + Imputer + Oversampler *\n",
      "***************************************************************************************************\n",
      "\n",
      "Problem Type: binary\n",
      "Model Family: Random Forest\n",
      "\n",
      "Pipeline Steps\n",
      "==============\n",
      "1. Label Encoder\n",
      "\t * positive_label : None\n",
      "2. Natural Language Featurizer\n",
      "3. Imputer\n",
      "\t * categorical_impute_strategy : most_frequent\n",
      "\t * numeric_impute_strategy : mean\n",
      "\t * boolean_impute_strategy : most_frequent\n",
      "\t * categorical_fill_value : None\n",
      "\t * numeric_fill_value : None\n",
      "\t * boolean_fill_value : None\n",
      "4. Oversampler\n",
      "\t * sampling_ratio : 0.25\n",
      "\t * k_neighbors_default : 5\n",
      "\t * n_jobs : -1\n",
      "\t * sampling_ratio_dict : None\n",
      "\t * k_neighbors : 5\n",
      "5. Random Forest Classifier\n",
      "\t * n_estimators : 100\n",
      "\t * max_depth : 6\n",
      "\t * n_jobs : -1\n",
      "\n",
      "Training\n",
      "========\n",
      "Training for binary problems.\n",
      "Total training time (including CV): 152.2 seconds\n",
      "\n",
      "Cross Validation\n",
      "----------------\n",
      "             Log Loss Binary  MCC Binary  Gini   AUC  Precision    F1  Balanced Accuracy Binary  Accuracy Binary # Training # Validation\n",
      "0                      0.153       0.757 0.929 0.965      0.777 0.790                     0.884            0.943      2,971        1,486\n",
      "1                      0.139       0.810 0.950 0.975      0.779 0.835                     0.930            0.952      2,971        1,486\n",
      "2                      0.147       0.772 0.934 0.967      0.810 0.802                     0.883            0.947      2,972        1,485\n",
      "mean                   0.146       0.780 0.938 0.969      0.789 0.809                     0.899            0.947          -            -\n",
      "std                    0.007       0.027 0.011 0.005      0.019 0.023                     0.027            0.005          -            -\n",
      "coef of var            0.048       0.035 0.012 0.006      0.024 0.029                     0.030            0.005          -            -\n"
     ]
    }
   ],
   "source": [
    "automl_no_text.describe_pipeline(automl_no_text.rankings.iloc[0][\"id\"])"
   ]
  },
  {
   "cell_type": "code",
   "execution_count": 51,
   "id": "8eb2a515",
   "metadata": {},
   "outputs": [
    {
     "name": "stdout",
     "output_type": "stream",
     "text": [
      "Accuracy Binary: 0.9479820627802691\n"
     ]
    }
   ],
   "source": [
    "# get standard performance metrics on holdout data\n",
    "scores_text = best_pipeline_no_text.score(\n",
    "    X_holdout, y_holdout, objectives=evalml.objectives.get_core_objectives(\"binary\")\n",
    ")\n",
    "print(f'Accuracy Binary: {scores_text[\"Accuracy Binary\"]}')"
   ]
  },
  {
   "cell_type": "code",
   "execution_count": 52,
   "id": "694dee9f",
   "metadata": {},
   "outputs": [
    {
     "data": {
      "text/plain": [
       "OrderedDict([('MCC Binary', 0.7683176325175218),\n",
       "             ('Log Loss Binary', 0.14894657675005088),\n",
       "             ('Gini', 0.9283004710492309),\n",
       "             ('AUC', 0.9641502355246154),\n",
       "             ('Precision', 0.8321167883211679),\n",
       "             ('F1', 0.7972027972027971),\n",
       "             ('Balanced Accuracy Binary', 0.8706455736657079),\n",
       "             ('Accuracy Binary', 0.9479820627802691)])"
      ]
     },
     "execution_count": 52,
     "metadata": {},
     "output_type": "execute_result"
    }
   ],
   "source": [
    "scores_text"
   ]
  },
  {
   "cell_type": "code",
   "execution_count": null,
   "id": "03641e91",
   "metadata": {},
   "outputs": [],
   "source": []
  },
  {
   "cell_type": "code",
   "execution_count": null,
   "id": "6ee094f6",
   "metadata": {},
   "outputs": [],
   "source": []
  }
 ],
 "metadata": {
  "kernelspec": {
   "display_name": "Python 3 (ipykernel)",
   "language": "python",
   "name": "python3"
  },
  "language_info": {
   "codemirror_mode": {
    "name": "ipython",
    "version": 3
   },
   "file_extension": ".py",
   "mimetype": "text/x-python",
   "name": "python",
   "nbconvert_exporter": "python",
   "pygments_lexer": "ipython3",
   "version": "3.9.7"
  }
 },
 "nbformat": 4,
 "nbformat_minor": 5
}
